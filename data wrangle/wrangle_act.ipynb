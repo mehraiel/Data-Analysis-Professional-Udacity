{
 "cells": [
  {
   "cell_type": "code",
   "execution_count": 1,
   "metadata": {},
   "outputs": [],
   "source": [
    "import tweepy\n",
    "from tweepy import OAuthHandler\n",
    "import json\n",
    "from timeit import default_timer as timer\n",
    "import pandas as pd \n",
    "import numpy as np\n",
    "import requests\n",
    "import json\n",
    "import glob\n",
    "from pandas import DataFrame\n",
    "import requests\n",
    "import os\n",
    "import sys\n",
    "import datetime\n",
    "from pandas import Series\n",
    "import matplotlib.pyplot as plt\n",
    "import matplotlib\n",
    "%matplotlib inline\n"
   ]
  },
  {
   "cell_type": "markdown",
   "metadata": {},
   "source": [
    "# Data wrangling\n",
    "\n",
    "\n",
    "### Gathering data"
   ]
  },
  {
   "cell_type": "code",
   "execution_count": 2,
   "metadata": {},
   "outputs": [],
   "source": [
    "df_enhanced = pd.read_csv('twitter-archive-enhanced.csv')\n"
   ]
  },
  {
   "cell_type": "code",
   "execution_count": 4,
   "metadata": {},
   "outputs": [],
   "source": [
    "url='https://d17h27t6h515a5.cloudfront.net/topher/2017/August/599fd2ad_image-predictions/image-predictions.tsv'\n",
    "response = requests.get(url)"
   ]
  },
  {
   "cell_type": "code",
   "execution_count": 5,
   "metadata": {},
   "outputs": [
    {
     "data": {
      "text/plain": [
       "'text/tab-separated-values; charset=utf-8'"
      ]
     },
     "execution_count": 5,
     "metadata": {},
     "output_type": "execute_result"
    }
   ],
   "source": [
    "response.headers['content-type']"
   ]
  },
  {
   "cell_type": "code",
   "execution_count": 6,
   "metadata": {},
   "outputs": [
    {
     "data": {
      "text/plain": [
       "'utf-8'"
      ]
     },
     "execution_count": 6,
     "metadata": {},
     "output_type": "execute_result"
    }
   ],
   "source": [
    "response.encoding"
   ]
  },
  {
   "cell_type": "code",
   "execution_count": 7,
   "metadata": {},
   "outputs": [],
   "source": [
    "#saving content to file named image-predictions\n",
    "with open('image-predictions.tsv',mode='wb') as file:\n",
    "    file.write(response.content)"
   ]
  },
  {
   "cell_type": "code",
   "execution_count": 8,
   "metadata": {},
   "outputs": [],
   "source": [
    "img_pred=pd.read_csv('image-predictions.tsv', sep='\\t')\n"
   ]
  },
  {
   "cell_type": "code",
   "execution_count": 9,
   "metadata": {},
   "outputs": [],
   "source": [
    "tweet_info=pd.read_json('tweet-json.txt', lines=True)"
   ]
  },
  {
   "cell_type": "markdown",
   "metadata": {},
   "source": [
    "### Assessing Data"
   ]
  },
  {
   "cell_type": "code",
   "execution_count": null,
   "metadata": {},
   "outputs": [],
   "source": []
  },
  {
   "cell_type": "code",
   "execution_count": 10,
   "metadata": {},
   "outputs": [
    {
     "name": "stdout",
     "output_type": "stream",
     "text": [
      "<class 'pandas.core.frame.DataFrame'>\n",
      "RangeIndex: 2356 entries, 0 to 2355\n",
      "Data columns (total 17 columns):\n",
      "tweet_id                      2356 non-null int64\n",
      "in_reply_to_status_id         78 non-null float64\n",
      "in_reply_to_user_id           78 non-null float64\n",
      "timestamp                     2356 non-null object\n",
      "source                        2356 non-null object\n",
      "text                          2356 non-null object\n",
      "retweeted_status_id           181 non-null float64\n",
      "retweeted_status_user_id      181 non-null float64\n",
      "retweeted_status_timestamp    181 non-null object\n",
      "expanded_urls                 2297 non-null object\n",
      "rating_numerator              2356 non-null int64\n",
      "rating_denominator            2356 non-null int64\n",
      "name                          2356 non-null object\n",
      "doggo                         2356 non-null object\n",
      "floofer                       2356 non-null object\n",
      "pupper                        2356 non-null object\n",
      "puppo                         2356 non-null object\n",
      "dtypes: float64(4), int64(3), object(10)\n",
      "memory usage: 313.0+ KB\n"
     ]
    }
   ],
   "source": [
    "df_enhanced.info()"
   ]
  },
  {
   "cell_type": "code",
   "execution_count": 11,
   "metadata": {},
   "outputs": [
    {
     "data": {
      "text/html": [
       "<div>\n",
       "<style scoped>\n",
       "    .dataframe tbody tr th:only-of-type {\n",
       "        vertical-align: middle;\n",
       "    }\n",
       "\n",
       "    .dataframe tbody tr th {\n",
       "        vertical-align: top;\n",
       "    }\n",
       "\n",
       "    .dataframe thead th {\n",
       "        text-align: right;\n",
       "    }\n",
       "</style>\n",
       "<table border=\"1\" class=\"dataframe\">\n",
       "  <thead>\n",
       "    <tr style=\"text-align: right;\">\n",
       "      <th></th>\n",
       "      <th>tweet_id</th>\n",
       "      <th>in_reply_to_status_id</th>\n",
       "      <th>in_reply_to_user_id</th>\n",
       "      <th>timestamp</th>\n",
       "      <th>source</th>\n",
       "      <th>text</th>\n",
       "      <th>retweeted_status_id</th>\n",
       "      <th>retweeted_status_user_id</th>\n",
       "      <th>retweeted_status_timestamp</th>\n",
       "      <th>expanded_urls</th>\n",
       "      <th>rating_numerator</th>\n",
       "      <th>rating_denominator</th>\n",
       "      <th>name</th>\n",
       "      <th>doggo</th>\n",
       "      <th>floofer</th>\n",
       "      <th>pupper</th>\n",
       "      <th>puppo</th>\n",
       "    </tr>\n",
       "  </thead>\n",
       "  <tbody>\n",
       "    <tr>\n",
       "      <td>0</td>\n",
       "      <td>892420643555336193</td>\n",
       "      <td>NaN</td>\n",
       "      <td>NaN</td>\n",
       "      <td>2017-08-01 16:23:56 +0000</td>\n",
       "      <td>&lt;a href=\"http://twitter.com/download/iphone\" r...</td>\n",
       "      <td>This is Phineas. He's a mystical boy. Only eve...</td>\n",
       "      <td>NaN</td>\n",
       "      <td>NaN</td>\n",
       "      <td>NaN</td>\n",
       "      <td>https://twitter.com/dog_rates/status/892420643...</td>\n",
       "      <td>13</td>\n",
       "      <td>10</td>\n",
       "      <td>Phineas</td>\n",
       "      <td>None</td>\n",
       "      <td>None</td>\n",
       "      <td>None</td>\n",
       "      <td>None</td>\n",
       "    </tr>\n",
       "    <tr>\n",
       "      <td>1</td>\n",
       "      <td>892177421306343426</td>\n",
       "      <td>NaN</td>\n",
       "      <td>NaN</td>\n",
       "      <td>2017-08-01 00:17:27 +0000</td>\n",
       "      <td>&lt;a href=\"http://twitter.com/download/iphone\" r...</td>\n",
       "      <td>This is Tilly. She's just checking pup on you....</td>\n",
       "      <td>NaN</td>\n",
       "      <td>NaN</td>\n",
       "      <td>NaN</td>\n",
       "      <td>https://twitter.com/dog_rates/status/892177421...</td>\n",
       "      <td>13</td>\n",
       "      <td>10</td>\n",
       "      <td>Tilly</td>\n",
       "      <td>None</td>\n",
       "      <td>None</td>\n",
       "      <td>None</td>\n",
       "      <td>None</td>\n",
       "    </tr>\n",
       "    <tr>\n",
       "      <td>2</td>\n",
       "      <td>891815181378084864</td>\n",
       "      <td>NaN</td>\n",
       "      <td>NaN</td>\n",
       "      <td>2017-07-31 00:18:03 +0000</td>\n",
       "      <td>&lt;a href=\"http://twitter.com/download/iphone\" r...</td>\n",
       "      <td>This is Archie. He is a rare Norwegian Pouncin...</td>\n",
       "      <td>NaN</td>\n",
       "      <td>NaN</td>\n",
       "      <td>NaN</td>\n",
       "      <td>https://twitter.com/dog_rates/status/891815181...</td>\n",
       "      <td>12</td>\n",
       "      <td>10</td>\n",
       "      <td>Archie</td>\n",
       "      <td>None</td>\n",
       "      <td>None</td>\n",
       "      <td>None</td>\n",
       "      <td>None</td>\n",
       "    </tr>\n",
       "    <tr>\n",
       "      <td>3</td>\n",
       "      <td>891689557279858688</td>\n",
       "      <td>NaN</td>\n",
       "      <td>NaN</td>\n",
       "      <td>2017-07-30 15:58:51 +0000</td>\n",
       "      <td>&lt;a href=\"http://twitter.com/download/iphone\" r...</td>\n",
       "      <td>This is Darla. She commenced a snooze mid meal...</td>\n",
       "      <td>NaN</td>\n",
       "      <td>NaN</td>\n",
       "      <td>NaN</td>\n",
       "      <td>https://twitter.com/dog_rates/status/891689557...</td>\n",
       "      <td>13</td>\n",
       "      <td>10</td>\n",
       "      <td>Darla</td>\n",
       "      <td>None</td>\n",
       "      <td>None</td>\n",
       "      <td>None</td>\n",
       "      <td>None</td>\n",
       "    </tr>\n",
       "    <tr>\n",
       "      <td>4</td>\n",
       "      <td>891327558926688256</td>\n",
       "      <td>NaN</td>\n",
       "      <td>NaN</td>\n",
       "      <td>2017-07-29 16:00:24 +0000</td>\n",
       "      <td>&lt;a href=\"http://twitter.com/download/iphone\" r...</td>\n",
       "      <td>This is Franklin. He would like you to stop ca...</td>\n",
       "      <td>NaN</td>\n",
       "      <td>NaN</td>\n",
       "      <td>NaN</td>\n",
       "      <td>https://twitter.com/dog_rates/status/891327558...</td>\n",
       "      <td>12</td>\n",
       "      <td>10</td>\n",
       "      <td>Franklin</td>\n",
       "      <td>None</td>\n",
       "      <td>None</td>\n",
       "      <td>None</td>\n",
       "      <td>None</td>\n",
       "    </tr>\n",
       "  </tbody>\n",
       "</table>\n",
       "</div>"
      ],
      "text/plain": [
       "             tweet_id  in_reply_to_status_id  in_reply_to_user_id  \\\n",
       "0  892420643555336193                    NaN                  NaN   \n",
       "1  892177421306343426                    NaN                  NaN   \n",
       "2  891815181378084864                    NaN                  NaN   \n",
       "3  891689557279858688                    NaN                  NaN   \n",
       "4  891327558926688256                    NaN                  NaN   \n",
       "\n",
       "                   timestamp  \\\n",
       "0  2017-08-01 16:23:56 +0000   \n",
       "1  2017-08-01 00:17:27 +0000   \n",
       "2  2017-07-31 00:18:03 +0000   \n",
       "3  2017-07-30 15:58:51 +0000   \n",
       "4  2017-07-29 16:00:24 +0000   \n",
       "\n",
       "                                              source  \\\n",
       "0  <a href=\"http://twitter.com/download/iphone\" r...   \n",
       "1  <a href=\"http://twitter.com/download/iphone\" r...   \n",
       "2  <a href=\"http://twitter.com/download/iphone\" r...   \n",
       "3  <a href=\"http://twitter.com/download/iphone\" r...   \n",
       "4  <a href=\"http://twitter.com/download/iphone\" r...   \n",
       "\n",
       "                                                text  retweeted_status_id  \\\n",
       "0  This is Phineas. He's a mystical boy. Only eve...                  NaN   \n",
       "1  This is Tilly. She's just checking pup on you....                  NaN   \n",
       "2  This is Archie. He is a rare Norwegian Pouncin...                  NaN   \n",
       "3  This is Darla. She commenced a snooze mid meal...                  NaN   \n",
       "4  This is Franklin. He would like you to stop ca...                  NaN   \n",
       "\n",
       "   retweeted_status_user_id retweeted_status_timestamp  \\\n",
       "0                       NaN                        NaN   \n",
       "1                       NaN                        NaN   \n",
       "2                       NaN                        NaN   \n",
       "3                       NaN                        NaN   \n",
       "4                       NaN                        NaN   \n",
       "\n",
       "                                       expanded_urls  rating_numerator  \\\n",
       "0  https://twitter.com/dog_rates/status/892420643...                13   \n",
       "1  https://twitter.com/dog_rates/status/892177421...                13   \n",
       "2  https://twitter.com/dog_rates/status/891815181...                12   \n",
       "3  https://twitter.com/dog_rates/status/891689557...                13   \n",
       "4  https://twitter.com/dog_rates/status/891327558...                12   \n",
       "\n",
       "   rating_denominator      name doggo floofer pupper puppo  \n",
       "0                  10   Phineas  None    None   None  None  \n",
       "1                  10     Tilly  None    None   None  None  \n",
       "2                  10    Archie  None    None   None  None  \n",
       "3                  10     Darla  None    None   None  None  \n",
       "4                  10  Franklin  None    None   None  None  "
      ]
     },
     "execution_count": 11,
     "metadata": {},
     "output_type": "execute_result"
    }
   ],
   "source": [
    "df_enhanced.head()"
   ]
  },
  {
   "cell_type": "code",
   "execution_count": 12,
   "metadata": {},
   "outputs": [
    {
     "data": {
      "text/html": [
       "<div>\n",
       "<style scoped>\n",
       "    .dataframe tbody tr th:only-of-type {\n",
       "        vertical-align: middle;\n",
       "    }\n",
       "\n",
       "    .dataframe tbody tr th {\n",
       "        vertical-align: top;\n",
       "    }\n",
       "\n",
       "    .dataframe thead th {\n",
       "        text-align: right;\n",
       "    }\n",
       "</style>\n",
       "<table border=\"1\" class=\"dataframe\">\n",
       "  <thead>\n",
       "    <tr style=\"text-align: right;\">\n",
       "      <th></th>\n",
       "      <th>tweet_id</th>\n",
       "      <th>jpg_url</th>\n",
       "      <th>img_num</th>\n",
       "      <th>p1</th>\n",
       "      <th>p1_conf</th>\n",
       "      <th>p1_dog</th>\n",
       "      <th>p2</th>\n",
       "      <th>p2_conf</th>\n",
       "      <th>p2_dog</th>\n",
       "      <th>p3</th>\n",
       "      <th>p3_conf</th>\n",
       "      <th>p3_dog</th>\n",
       "    </tr>\n",
       "  </thead>\n",
       "  <tbody>\n",
       "    <tr>\n",
       "      <td>0</td>\n",
       "      <td>666020888022790149</td>\n",
       "      <td>https://pbs.twimg.com/media/CT4udn0WwAA0aMy.jpg</td>\n",
       "      <td>1</td>\n",
       "      <td>Welsh_springer_spaniel</td>\n",
       "      <td>0.465074</td>\n",
       "      <td>True</td>\n",
       "      <td>collie</td>\n",
       "      <td>0.156665</td>\n",
       "      <td>True</td>\n",
       "      <td>Shetland_sheepdog</td>\n",
       "      <td>0.061428</td>\n",
       "      <td>True</td>\n",
       "    </tr>\n",
       "    <tr>\n",
       "      <td>1</td>\n",
       "      <td>666029285002620928</td>\n",
       "      <td>https://pbs.twimg.com/media/CT42GRgUYAA5iDo.jpg</td>\n",
       "      <td>1</td>\n",
       "      <td>redbone</td>\n",
       "      <td>0.506826</td>\n",
       "      <td>True</td>\n",
       "      <td>miniature_pinscher</td>\n",
       "      <td>0.074192</td>\n",
       "      <td>True</td>\n",
       "      <td>Rhodesian_ridgeback</td>\n",
       "      <td>0.072010</td>\n",
       "      <td>True</td>\n",
       "    </tr>\n",
       "    <tr>\n",
       "      <td>2</td>\n",
       "      <td>666033412701032449</td>\n",
       "      <td>https://pbs.twimg.com/media/CT4521TWwAEvMyu.jpg</td>\n",
       "      <td>1</td>\n",
       "      <td>German_shepherd</td>\n",
       "      <td>0.596461</td>\n",
       "      <td>True</td>\n",
       "      <td>malinois</td>\n",
       "      <td>0.138584</td>\n",
       "      <td>True</td>\n",
       "      <td>bloodhound</td>\n",
       "      <td>0.116197</td>\n",
       "      <td>True</td>\n",
       "    </tr>\n",
       "    <tr>\n",
       "      <td>3</td>\n",
       "      <td>666044226329800704</td>\n",
       "      <td>https://pbs.twimg.com/media/CT5Dr8HUEAA-lEu.jpg</td>\n",
       "      <td>1</td>\n",
       "      <td>Rhodesian_ridgeback</td>\n",
       "      <td>0.408143</td>\n",
       "      <td>True</td>\n",
       "      <td>redbone</td>\n",
       "      <td>0.360687</td>\n",
       "      <td>True</td>\n",
       "      <td>miniature_pinscher</td>\n",
       "      <td>0.222752</td>\n",
       "      <td>True</td>\n",
       "    </tr>\n",
       "    <tr>\n",
       "      <td>4</td>\n",
       "      <td>666049248165822465</td>\n",
       "      <td>https://pbs.twimg.com/media/CT5IQmsXIAAKY4A.jpg</td>\n",
       "      <td>1</td>\n",
       "      <td>miniature_pinscher</td>\n",
       "      <td>0.560311</td>\n",
       "      <td>True</td>\n",
       "      <td>Rottweiler</td>\n",
       "      <td>0.243682</td>\n",
       "      <td>True</td>\n",
       "      <td>Doberman</td>\n",
       "      <td>0.154629</td>\n",
       "      <td>True</td>\n",
       "    </tr>\n",
       "  </tbody>\n",
       "</table>\n",
       "</div>"
      ],
      "text/plain": [
       "             tweet_id                                          jpg_url  \\\n",
       "0  666020888022790149  https://pbs.twimg.com/media/CT4udn0WwAA0aMy.jpg   \n",
       "1  666029285002620928  https://pbs.twimg.com/media/CT42GRgUYAA5iDo.jpg   \n",
       "2  666033412701032449  https://pbs.twimg.com/media/CT4521TWwAEvMyu.jpg   \n",
       "3  666044226329800704  https://pbs.twimg.com/media/CT5Dr8HUEAA-lEu.jpg   \n",
       "4  666049248165822465  https://pbs.twimg.com/media/CT5IQmsXIAAKY4A.jpg   \n",
       "\n",
       "   img_num                      p1   p1_conf  p1_dog                  p2  \\\n",
       "0        1  Welsh_springer_spaniel  0.465074    True              collie   \n",
       "1        1                 redbone  0.506826    True  miniature_pinscher   \n",
       "2        1         German_shepherd  0.596461    True            malinois   \n",
       "3        1     Rhodesian_ridgeback  0.408143    True             redbone   \n",
       "4        1      miniature_pinscher  0.560311    True          Rottweiler   \n",
       "\n",
       "    p2_conf  p2_dog                   p3   p3_conf  p3_dog  \n",
       "0  0.156665    True    Shetland_sheepdog  0.061428    True  \n",
       "1  0.074192    True  Rhodesian_ridgeback  0.072010    True  \n",
       "2  0.138584    True           bloodhound  0.116197    True  \n",
       "3  0.360687    True   miniature_pinscher  0.222752    True  \n",
       "4  0.243682    True             Doberman  0.154629    True  "
      ]
     },
     "execution_count": 12,
     "metadata": {},
     "output_type": "execute_result"
    }
   ],
   "source": [
    "img_pred.head()"
   ]
  },
  {
   "cell_type": "code",
   "execution_count": 13,
   "metadata": {},
   "outputs": [
    {
     "name": "stdout",
     "output_type": "stream",
     "text": [
      "<class 'pandas.core.frame.DataFrame'>\n",
      "RangeIndex: 2075 entries, 0 to 2074\n",
      "Data columns (total 12 columns):\n",
      "tweet_id    2075 non-null int64\n",
      "jpg_url     2075 non-null object\n",
      "img_num     2075 non-null int64\n",
      "p1          2075 non-null object\n",
      "p1_conf     2075 non-null float64\n",
      "p1_dog      2075 non-null bool\n",
      "p2          2075 non-null object\n",
      "p2_conf     2075 non-null float64\n",
      "p2_dog      2075 non-null bool\n",
      "p3          2075 non-null object\n",
      "p3_conf     2075 non-null float64\n",
      "p3_dog      2075 non-null bool\n",
      "dtypes: bool(3), float64(3), int64(2), object(4)\n",
      "memory usage: 152.1+ KB\n"
     ]
    }
   ],
   "source": [
    "img_pred.info()"
   ]
  },
  {
   "cell_type": "code",
   "execution_count": 14,
   "metadata": {},
   "outputs": [
    {
     "data": {
      "text/html": [
       "<div>\n",
       "<style scoped>\n",
       "    .dataframe tbody tr th:only-of-type {\n",
       "        vertical-align: middle;\n",
       "    }\n",
       "\n",
       "    .dataframe tbody tr th {\n",
       "        vertical-align: top;\n",
       "    }\n",
       "\n",
       "    .dataframe thead th {\n",
       "        text-align: right;\n",
       "    }\n",
       "</style>\n",
       "<table border=\"1\" class=\"dataframe\">\n",
       "  <thead>\n",
       "    <tr style=\"text-align: right;\">\n",
       "      <th></th>\n",
       "      <th>created_at</th>\n",
       "      <th>id</th>\n",
       "      <th>id_str</th>\n",
       "      <th>full_text</th>\n",
       "      <th>truncated</th>\n",
       "      <th>display_text_range</th>\n",
       "      <th>entities</th>\n",
       "      <th>extended_entities</th>\n",
       "      <th>source</th>\n",
       "      <th>in_reply_to_status_id</th>\n",
       "      <th>...</th>\n",
       "      <th>favorite_count</th>\n",
       "      <th>favorited</th>\n",
       "      <th>retweeted</th>\n",
       "      <th>possibly_sensitive</th>\n",
       "      <th>possibly_sensitive_appealable</th>\n",
       "      <th>lang</th>\n",
       "      <th>retweeted_status</th>\n",
       "      <th>quoted_status_id</th>\n",
       "      <th>quoted_status_id_str</th>\n",
       "      <th>quoted_status</th>\n",
       "    </tr>\n",
       "  </thead>\n",
       "  <tbody>\n",
       "    <tr>\n",
       "      <td>0</td>\n",
       "      <td>2017-08-01 16:23:56+00:00</td>\n",
       "      <td>892420643555336193</td>\n",
       "      <td>892420643555336192</td>\n",
       "      <td>This is Phineas. He's a mystical boy. Only eve...</td>\n",
       "      <td>False</td>\n",
       "      <td>[0, 85]</td>\n",
       "      <td>{'hashtags': [], 'symbols': [], 'user_mentions...</td>\n",
       "      <td>{'media': [{'id': 892420639486877696, 'id_str'...</td>\n",
       "      <td>&lt;a href=\"http://twitter.com/download/iphone\" r...</td>\n",
       "      <td>NaN</td>\n",
       "      <td>...</td>\n",
       "      <td>39467</td>\n",
       "      <td>False</td>\n",
       "      <td>False</td>\n",
       "      <td>0.0</td>\n",
       "      <td>0.0</td>\n",
       "      <td>en</td>\n",
       "      <td>NaN</td>\n",
       "      <td>NaN</td>\n",
       "      <td>NaN</td>\n",
       "      <td>NaN</td>\n",
       "    </tr>\n",
       "    <tr>\n",
       "      <td>1</td>\n",
       "      <td>2017-08-01 00:17:27+00:00</td>\n",
       "      <td>892177421306343426</td>\n",
       "      <td>892177421306343424</td>\n",
       "      <td>This is Tilly. She's just checking pup on you....</td>\n",
       "      <td>False</td>\n",
       "      <td>[0, 138]</td>\n",
       "      <td>{'hashtags': [], 'symbols': [], 'user_mentions...</td>\n",
       "      <td>{'media': [{'id': 892177413194625024, 'id_str'...</td>\n",
       "      <td>&lt;a href=\"http://twitter.com/download/iphone\" r...</td>\n",
       "      <td>NaN</td>\n",
       "      <td>...</td>\n",
       "      <td>33819</td>\n",
       "      <td>False</td>\n",
       "      <td>False</td>\n",
       "      <td>0.0</td>\n",
       "      <td>0.0</td>\n",
       "      <td>en</td>\n",
       "      <td>NaN</td>\n",
       "      <td>NaN</td>\n",
       "      <td>NaN</td>\n",
       "      <td>NaN</td>\n",
       "    </tr>\n",
       "    <tr>\n",
       "      <td>2</td>\n",
       "      <td>2017-07-31 00:18:03+00:00</td>\n",
       "      <td>891815181378084864</td>\n",
       "      <td>891815181378084864</td>\n",
       "      <td>This is Archie. He is a rare Norwegian Pouncin...</td>\n",
       "      <td>False</td>\n",
       "      <td>[0, 121]</td>\n",
       "      <td>{'hashtags': [], 'symbols': [], 'user_mentions...</td>\n",
       "      <td>{'media': [{'id': 891815175371796480, 'id_str'...</td>\n",
       "      <td>&lt;a href=\"http://twitter.com/download/iphone\" r...</td>\n",
       "      <td>NaN</td>\n",
       "      <td>...</td>\n",
       "      <td>25461</td>\n",
       "      <td>False</td>\n",
       "      <td>False</td>\n",
       "      <td>0.0</td>\n",
       "      <td>0.0</td>\n",
       "      <td>en</td>\n",
       "      <td>NaN</td>\n",
       "      <td>NaN</td>\n",
       "      <td>NaN</td>\n",
       "      <td>NaN</td>\n",
       "    </tr>\n",
       "    <tr>\n",
       "      <td>3</td>\n",
       "      <td>2017-07-30 15:58:51+00:00</td>\n",
       "      <td>891689557279858688</td>\n",
       "      <td>891689557279858688</td>\n",
       "      <td>This is Darla. She commenced a snooze mid meal...</td>\n",
       "      <td>False</td>\n",
       "      <td>[0, 79]</td>\n",
       "      <td>{'hashtags': [], 'symbols': [], 'user_mentions...</td>\n",
       "      <td>{'media': [{'id': 891689552724799489, 'id_str'...</td>\n",
       "      <td>&lt;a href=\"http://twitter.com/download/iphone\" r...</td>\n",
       "      <td>NaN</td>\n",
       "      <td>...</td>\n",
       "      <td>42908</td>\n",
       "      <td>False</td>\n",
       "      <td>False</td>\n",
       "      <td>0.0</td>\n",
       "      <td>0.0</td>\n",
       "      <td>en</td>\n",
       "      <td>NaN</td>\n",
       "      <td>NaN</td>\n",
       "      <td>NaN</td>\n",
       "      <td>NaN</td>\n",
       "    </tr>\n",
       "    <tr>\n",
       "      <td>4</td>\n",
       "      <td>2017-07-29 16:00:24+00:00</td>\n",
       "      <td>891327558926688256</td>\n",
       "      <td>891327558926688256</td>\n",
       "      <td>This is Franklin. He would like you to stop ca...</td>\n",
       "      <td>False</td>\n",
       "      <td>[0, 138]</td>\n",
       "      <td>{'hashtags': [{'text': 'BarkWeek', 'indices': ...</td>\n",
       "      <td>{'media': [{'id': 891327551943041024, 'id_str'...</td>\n",
       "      <td>&lt;a href=\"http://twitter.com/download/iphone\" r...</td>\n",
       "      <td>NaN</td>\n",
       "      <td>...</td>\n",
       "      <td>41048</td>\n",
       "      <td>False</td>\n",
       "      <td>False</td>\n",
       "      <td>0.0</td>\n",
       "      <td>0.0</td>\n",
       "      <td>en</td>\n",
       "      <td>NaN</td>\n",
       "      <td>NaN</td>\n",
       "      <td>NaN</td>\n",
       "      <td>NaN</td>\n",
       "    </tr>\n",
       "    <tr>\n",
       "      <td>...</td>\n",
       "      <td>...</td>\n",
       "      <td>...</td>\n",
       "      <td>...</td>\n",
       "      <td>...</td>\n",
       "      <td>...</td>\n",
       "      <td>...</td>\n",
       "      <td>...</td>\n",
       "      <td>...</td>\n",
       "      <td>...</td>\n",
       "      <td>...</td>\n",
       "      <td>...</td>\n",
       "      <td>...</td>\n",
       "      <td>...</td>\n",
       "      <td>...</td>\n",
       "      <td>...</td>\n",
       "      <td>...</td>\n",
       "      <td>...</td>\n",
       "      <td>...</td>\n",
       "      <td>...</td>\n",
       "      <td>...</td>\n",
       "      <td>...</td>\n",
       "    </tr>\n",
       "    <tr>\n",
       "      <td>2349</td>\n",
       "      <td>2015-11-16 00:24:50+00:00</td>\n",
       "      <td>666049248165822465</td>\n",
       "      <td>666049248165822464</td>\n",
       "      <td>Here we have a 1949 1st generation vulpix. Enj...</td>\n",
       "      <td>False</td>\n",
       "      <td>[0, 120]</td>\n",
       "      <td>{'hashtags': [], 'symbols': [], 'user_mentions...</td>\n",
       "      <td>{'media': [{'id': 666049244999131136, 'id_str'...</td>\n",
       "      <td>&lt;a href=\"http://twitter.com/download/iphone\" r...</td>\n",
       "      <td>NaN</td>\n",
       "      <td>...</td>\n",
       "      <td>111</td>\n",
       "      <td>False</td>\n",
       "      <td>False</td>\n",
       "      <td>0.0</td>\n",
       "      <td>0.0</td>\n",
       "      <td>en</td>\n",
       "      <td>NaN</td>\n",
       "      <td>NaN</td>\n",
       "      <td>NaN</td>\n",
       "      <td>NaN</td>\n",
       "    </tr>\n",
       "    <tr>\n",
       "      <td>2350</td>\n",
       "      <td>2015-11-16 00:04:52+00:00</td>\n",
       "      <td>666044226329800704</td>\n",
       "      <td>666044226329800704</td>\n",
       "      <td>This is a purebred Piers Morgan. Loves to Netf...</td>\n",
       "      <td>False</td>\n",
       "      <td>[0, 137]</td>\n",
       "      <td>{'hashtags': [], 'symbols': [], 'user_mentions...</td>\n",
       "      <td>{'media': [{'id': 666044217047650304, 'id_str'...</td>\n",
       "      <td>&lt;a href=\"http://twitter.com/download/iphone\" r...</td>\n",
       "      <td>NaN</td>\n",
       "      <td>...</td>\n",
       "      <td>311</td>\n",
       "      <td>False</td>\n",
       "      <td>False</td>\n",
       "      <td>0.0</td>\n",
       "      <td>0.0</td>\n",
       "      <td>en</td>\n",
       "      <td>NaN</td>\n",
       "      <td>NaN</td>\n",
       "      <td>NaN</td>\n",
       "      <td>NaN</td>\n",
       "    </tr>\n",
       "    <tr>\n",
       "      <td>2351</td>\n",
       "      <td>2015-11-15 23:21:54+00:00</td>\n",
       "      <td>666033412701032449</td>\n",
       "      <td>666033412701032448</td>\n",
       "      <td>Here is a very happy pup. Big fan of well-main...</td>\n",
       "      <td>False</td>\n",
       "      <td>[0, 130]</td>\n",
       "      <td>{'hashtags': [], 'symbols': [], 'user_mentions...</td>\n",
       "      <td>{'media': [{'id': 666033409081393153, 'id_str'...</td>\n",
       "      <td>&lt;a href=\"http://twitter.com/download/iphone\" r...</td>\n",
       "      <td>NaN</td>\n",
       "      <td>...</td>\n",
       "      <td>128</td>\n",
       "      <td>False</td>\n",
       "      <td>False</td>\n",
       "      <td>0.0</td>\n",
       "      <td>0.0</td>\n",
       "      <td>en</td>\n",
       "      <td>NaN</td>\n",
       "      <td>NaN</td>\n",
       "      <td>NaN</td>\n",
       "      <td>NaN</td>\n",
       "    </tr>\n",
       "    <tr>\n",
       "      <td>2352</td>\n",
       "      <td>2015-11-15 23:05:30+00:00</td>\n",
       "      <td>666029285002620928</td>\n",
       "      <td>666029285002620928</td>\n",
       "      <td>This is a western brown Mitsubishi terrier. Up...</td>\n",
       "      <td>False</td>\n",
       "      <td>[0, 139]</td>\n",
       "      <td>{'hashtags': [], 'symbols': [], 'user_mentions...</td>\n",
       "      <td>{'media': [{'id': 666029276303482880, 'id_str'...</td>\n",
       "      <td>&lt;a href=\"http://twitter.com/download/iphone\" r...</td>\n",
       "      <td>NaN</td>\n",
       "      <td>...</td>\n",
       "      <td>132</td>\n",
       "      <td>False</td>\n",
       "      <td>False</td>\n",
       "      <td>0.0</td>\n",
       "      <td>0.0</td>\n",
       "      <td>en</td>\n",
       "      <td>NaN</td>\n",
       "      <td>NaN</td>\n",
       "      <td>NaN</td>\n",
       "      <td>NaN</td>\n",
       "    </tr>\n",
       "    <tr>\n",
       "      <td>2353</td>\n",
       "      <td>2015-11-15 22:32:08+00:00</td>\n",
       "      <td>666020888022790149</td>\n",
       "      <td>666020888022790144</td>\n",
       "      <td>Here we have a Japanese Irish Setter. Lost eye...</td>\n",
       "      <td>False</td>\n",
       "      <td>[0, 131]</td>\n",
       "      <td>{'hashtags': [], 'symbols': [], 'user_mentions...</td>\n",
       "      <td>{'media': [{'id': 666020881337073664, 'id_str'...</td>\n",
       "      <td>&lt;a href=\"http://twitter.com/download/iphone\" r...</td>\n",
       "      <td>NaN</td>\n",
       "      <td>...</td>\n",
       "      <td>2535</td>\n",
       "      <td>False</td>\n",
       "      <td>False</td>\n",
       "      <td>0.0</td>\n",
       "      <td>0.0</td>\n",
       "      <td>en</td>\n",
       "      <td>NaN</td>\n",
       "      <td>NaN</td>\n",
       "      <td>NaN</td>\n",
       "      <td>NaN</td>\n",
       "    </tr>\n",
       "  </tbody>\n",
       "</table>\n",
       "<p>2354 rows × 31 columns</p>\n",
       "</div>"
      ],
      "text/plain": [
       "                    created_at                  id              id_str  \\\n",
       "0    2017-08-01 16:23:56+00:00  892420643555336193  892420643555336192   \n",
       "1    2017-08-01 00:17:27+00:00  892177421306343426  892177421306343424   \n",
       "2    2017-07-31 00:18:03+00:00  891815181378084864  891815181378084864   \n",
       "3    2017-07-30 15:58:51+00:00  891689557279858688  891689557279858688   \n",
       "4    2017-07-29 16:00:24+00:00  891327558926688256  891327558926688256   \n",
       "...                        ...                 ...                 ...   \n",
       "2349 2015-11-16 00:24:50+00:00  666049248165822465  666049248165822464   \n",
       "2350 2015-11-16 00:04:52+00:00  666044226329800704  666044226329800704   \n",
       "2351 2015-11-15 23:21:54+00:00  666033412701032449  666033412701032448   \n",
       "2352 2015-11-15 23:05:30+00:00  666029285002620928  666029285002620928   \n",
       "2353 2015-11-15 22:32:08+00:00  666020888022790149  666020888022790144   \n",
       "\n",
       "                                              full_text  truncated  \\\n",
       "0     This is Phineas. He's a mystical boy. Only eve...      False   \n",
       "1     This is Tilly. She's just checking pup on you....      False   \n",
       "2     This is Archie. He is a rare Norwegian Pouncin...      False   \n",
       "3     This is Darla. She commenced a snooze mid meal...      False   \n",
       "4     This is Franklin. He would like you to stop ca...      False   \n",
       "...                                                 ...        ...   \n",
       "2349  Here we have a 1949 1st generation vulpix. Enj...      False   \n",
       "2350  This is a purebred Piers Morgan. Loves to Netf...      False   \n",
       "2351  Here is a very happy pup. Big fan of well-main...      False   \n",
       "2352  This is a western brown Mitsubishi terrier. Up...      False   \n",
       "2353  Here we have a Japanese Irish Setter. Lost eye...      False   \n",
       "\n",
       "     display_text_range                                           entities  \\\n",
       "0               [0, 85]  {'hashtags': [], 'symbols': [], 'user_mentions...   \n",
       "1              [0, 138]  {'hashtags': [], 'symbols': [], 'user_mentions...   \n",
       "2              [0, 121]  {'hashtags': [], 'symbols': [], 'user_mentions...   \n",
       "3               [0, 79]  {'hashtags': [], 'symbols': [], 'user_mentions...   \n",
       "4              [0, 138]  {'hashtags': [{'text': 'BarkWeek', 'indices': ...   \n",
       "...                 ...                                                ...   \n",
       "2349           [0, 120]  {'hashtags': [], 'symbols': [], 'user_mentions...   \n",
       "2350           [0, 137]  {'hashtags': [], 'symbols': [], 'user_mentions...   \n",
       "2351           [0, 130]  {'hashtags': [], 'symbols': [], 'user_mentions...   \n",
       "2352           [0, 139]  {'hashtags': [], 'symbols': [], 'user_mentions...   \n",
       "2353           [0, 131]  {'hashtags': [], 'symbols': [], 'user_mentions...   \n",
       "\n",
       "                                      extended_entities  \\\n",
       "0     {'media': [{'id': 892420639486877696, 'id_str'...   \n",
       "1     {'media': [{'id': 892177413194625024, 'id_str'...   \n",
       "2     {'media': [{'id': 891815175371796480, 'id_str'...   \n",
       "3     {'media': [{'id': 891689552724799489, 'id_str'...   \n",
       "4     {'media': [{'id': 891327551943041024, 'id_str'...   \n",
       "...                                                 ...   \n",
       "2349  {'media': [{'id': 666049244999131136, 'id_str'...   \n",
       "2350  {'media': [{'id': 666044217047650304, 'id_str'...   \n",
       "2351  {'media': [{'id': 666033409081393153, 'id_str'...   \n",
       "2352  {'media': [{'id': 666029276303482880, 'id_str'...   \n",
       "2353  {'media': [{'id': 666020881337073664, 'id_str'...   \n",
       "\n",
       "                                                 source  \\\n",
       "0     <a href=\"http://twitter.com/download/iphone\" r...   \n",
       "1     <a href=\"http://twitter.com/download/iphone\" r...   \n",
       "2     <a href=\"http://twitter.com/download/iphone\" r...   \n",
       "3     <a href=\"http://twitter.com/download/iphone\" r...   \n",
       "4     <a href=\"http://twitter.com/download/iphone\" r...   \n",
       "...                                                 ...   \n",
       "2349  <a href=\"http://twitter.com/download/iphone\" r...   \n",
       "2350  <a href=\"http://twitter.com/download/iphone\" r...   \n",
       "2351  <a href=\"http://twitter.com/download/iphone\" r...   \n",
       "2352  <a href=\"http://twitter.com/download/iphone\" r...   \n",
       "2353  <a href=\"http://twitter.com/download/iphone\" r...   \n",
       "\n",
       "      in_reply_to_status_id  ...  favorite_count  favorited  retweeted  \\\n",
       "0                       NaN  ...           39467      False      False   \n",
       "1                       NaN  ...           33819      False      False   \n",
       "2                       NaN  ...           25461      False      False   \n",
       "3                       NaN  ...           42908      False      False   \n",
       "4                       NaN  ...           41048      False      False   \n",
       "...                     ...  ...             ...        ...        ...   \n",
       "2349                    NaN  ...             111      False      False   \n",
       "2350                    NaN  ...             311      False      False   \n",
       "2351                    NaN  ...             128      False      False   \n",
       "2352                    NaN  ...             132      False      False   \n",
       "2353                    NaN  ...            2535      False      False   \n",
       "\n",
       "     possibly_sensitive possibly_sensitive_appealable  lang  retweeted_status  \\\n",
       "0                   0.0                           0.0    en               NaN   \n",
       "1                   0.0                           0.0    en               NaN   \n",
       "2                   0.0                           0.0    en               NaN   \n",
       "3                   0.0                           0.0    en               NaN   \n",
       "4                   0.0                           0.0    en               NaN   \n",
       "...                 ...                           ...   ...               ...   \n",
       "2349                0.0                           0.0    en               NaN   \n",
       "2350                0.0                           0.0    en               NaN   \n",
       "2351                0.0                           0.0    en               NaN   \n",
       "2352                0.0                           0.0    en               NaN   \n",
       "2353                0.0                           0.0    en               NaN   \n",
       "\n",
       "     quoted_status_id  quoted_status_id_str  quoted_status  \n",
       "0                 NaN                   NaN            NaN  \n",
       "1                 NaN                   NaN            NaN  \n",
       "2                 NaN                   NaN            NaN  \n",
       "3                 NaN                   NaN            NaN  \n",
       "4                 NaN                   NaN            NaN  \n",
       "...               ...                   ...            ...  \n",
       "2349              NaN                   NaN            NaN  \n",
       "2350              NaN                   NaN            NaN  \n",
       "2351              NaN                   NaN            NaN  \n",
       "2352              NaN                   NaN            NaN  \n",
       "2353              NaN                   NaN            NaN  \n",
       "\n",
       "[2354 rows x 31 columns]"
      ]
     },
     "execution_count": 14,
     "metadata": {},
     "output_type": "execute_result"
    }
   ],
   "source": [
    "tweet_info"
   ]
  },
  {
   "cell_type": "code",
   "execution_count": 15,
   "metadata": {},
   "outputs": [
    {
     "data": {
      "text/plain": [
       "tweet_id                      745\n",
       "in_reply_to_status_id          77\n",
       "in_reply_to_user_id            77\n",
       "timestamp                     745\n",
       "source                        745\n",
       "text                          745\n",
       "retweeted_status_id            65\n",
       "retweeted_status_user_id       65\n",
       "retweeted_status_timestamp     65\n",
       "expanded_urls                 686\n",
       "rating_numerator              745\n",
       "rating_denominator            745\n",
       "name                          745\n",
       "doggo                         745\n",
       "floofer                       745\n",
       "pupper                        745\n",
       "puppo                         745\n",
       "dtype: int64"
      ]
     },
     "execution_count": 15,
     "metadata": {},
     "output_type": "execute_result"
    }
   ],
   "source": [
    "df_enhanced.loc[df_enhanced['name'] == 'None'].count()"
   ]
  },
  {
   "cell_type": "code",
   "execution_count": 16,
   "metadata": {},
   "outputs": [
    {
     "name": "stdout",
     "output_type": "stream",
     "text": [
      "<class 'pandas.core.frame.DataFrame'>\n",
      "RangeIndex: 2354 entries, 0 to 2353\n",
      "Data columns (total 31 columns):\n",
      "created_at                       2354 non-null datetime64[ns, UTC]\n",
      "id                               2354 non-null int64\n",
      "id_str                           2354 non-null int64\n",
      "full_text                        2354 non-null object\n",
      "truncated                        2354 non-null bool\n",
      "display_text_range               2354 non-null object\n",
      "entities                         2354 non-null object\n",
      "extended_entities                2073 non-null object\n",
      "source                           2354 non-null object\n",
      "in_reply_to_status_id            78 non-null float64\n",
      "in_reply_to_status_id_str        78 non-null float64\n",
      "in_reply_to_user_id              78 non-null float64\n",
      "in_reply_to_user_id_str          78 non-null float64\n",
      "in_reply_to_screen_name          78 non-null object\n",
      "user                             2354 non-null object\n",
      "geo                              0 non-null float64\n",
      "coordinates                      0 non-null float64\n",
      "place                            1 non-null object\n",
      "contributors                     0 non-null float64\n",
      "is_quote_status                  2354 non-null bool\n",
      "retweet_count                    2354 non-null int64\n",
      "favorite_count                   2354 non-null int64\n",
      "favorited                        2354 non-null bool\n",
      "retweeted                        2354 non-null bool\n",
      "possibly_sensitive               2211 non-null float64\n",
      "possibly_sensitive_appealable    2211 non-null float64\n",
      "lang                             2354 non-null object\n",
      "retweeted_status                 179 non-null object\n",
      "quoted_status_id                 29 non-null float64\n",
      "quoted_status_id_str             29 non-null float64\n",
      "quoted_status                    28 non-null object\n",
      "dtypes: bool(4), datetime64[ns, UTC](1), float64(11), int64(4), object(11)\n",
      "memory usage: 505.9+ KB\n"
     ]
    }
   ],
   "source": [
    "tweet_info.info()"
   ]
  },
  {
   "cell_type": "code",
   "execution_count": 17,
   "metadata": {},
   "outputs": [
    {
     "data": {
      "text/html": [
       "<div>\n",
       "<style scoped>\n",
       "    .dataframe tbody tr th:only-of-type {\n",
       "        vertical-align: middle;\n",
       "    }\n",
       "\n",
       "    .dataframe tbody tr th {\n",
       "        vertical-align: top;\n",
       "    }\n",
       "\n",
       "    .dataframe thead th {\n",
       "        text-align: right;\n",
       "    }\n",
       "</style>\n",
       "<table border=\"1\" class=\"dataframe\">\n",
       "  <thead>\n",
       "    <tr style=\"text-align: right;\">\n",
       "      <th></th>\n",
       "      <th>tweet_id</th>\n",
       "      <th>in_reply_to_status_id</th>\n",
       "      <th>in_reply_to_user_id</th>\n",
       "      <th>timestamp</th>\n",
       "      <th>source</th>\n",
       "      <th>text</th>\n",
       "      <th>retweeted_status_id</th>\n",
       "      <th>retweeted_status_user_id</th>\n",
       "      <th>retweeted_status_timestamp</th>\n",
       "      <th>expanded_urls</th>\n",
       "      <th>rating_numerator</th>\n",
       "      <th>rating_denominator</th>\n",
       "      <th>name</th>\n",
       "      <th>doggo</th>\n",
       "      <th>floofer</th>\n",
       "      <th>pupper</th>\n",
       "      <th>puppo</th>\n",
       "    </tr>\n",
       "  </thead>\n",
       "  <tbody>\n",
       "    <tr>\n",
       "      <td>7</td>\n",
       "      <td>890729181411237888</td>\n",
       "      <td>NaN</td>\n",
       "      <td>NaN</td>\n",
       "      <td>2017-07-28 00:22:40 +0000</td>\n",
       "      <td>&lt;a href=\"http://twitter.com/download/iphone\" r...</td>\n",
       "      <td>When you watch your owner call another dog a g...</td>\n",
       "      <td>NaN</td>\n",
       "      <td>NaN</td>\n",
       "      <td>NaN</td>\n",
       "      <td>https://twitter.com/dog_rates/status/890729181...</td>\n",
       "      <td>13</td>\n",
       "      <td>10</td>\n",
       "      <td>None</td>\n",
       "      <td>None</td>\n",
       "      <td>None</td>\n",
       "      <td>None</td>\n",
       "      <td>None</td>\n",
       "    </tr>\n",
       "    <tr>\n",
       "      <td>12</td>\n",
       "      <td>889665388333682689</td>\n",
       "      <td>NaN</td>\n",
       "      <td>NaN</td>\n",
       "      <td>2017-07-25 01:55:32 +0000</td>\n",
       "      <td>&lt;a href=\"http://twitter.com/download/iphone\" r...</td>\n",
       "      <td>Here's a puppo that seems to be on the fence a...</td>\n",
       "      <td>NaN</td>\n",
       "      <td>NaN</td>\n",
       "      <td>NaN</td>\n",
       "      <td>https://twitter.com/dog_rates/status/889665388...</td>\n",
       "      <td>13</td>\n",
       "      <td>10</td>\n",
       "      <td>None</td>\n",
       "      <td>None</td>\n",
       "      <td>None</td>\n",
       "      <td>None</td>\n",
       "      <td>puppo</td>\n",
       "    </tr>\n",
       "    <tr>\n",
       "      <td>23</td>\n",
       "      <td>887473957103951883</td>\n",
       "      <td>NaN</td>\n",
       "      <td>NaN</td>\n",
       "      <td>2017-07-19 00:47:34 +0000</td>\n",
       "      <td>&lt;a href=\"http://twitter.com/download/iphone\" r...</td>\n",
       "      <td>This is Canela. She attempted some fancy porch...</td>\n",
       "      <td>NaN</td>\n",
       "      <td>NaN</td>\n",
       "      <td>NaN</td>\n",
       "      <td>https://twitter.com/dog_rates/status/887473957...</td>\n",
       "      <td>13</td>\n",
       "      <td>10</td>\n",
       "      <td>Canela</td>\n",
       "      <td>None</td>\n",
       "      <td>None</td>\n",
       "      <td>None</td>\n",
       "      <td>None</td>\n",
       "    </tr>\n",
       "    <tr>\n",
       "      <td>24</td>\n",
       "      <td>887343217045368832</td>\n",
       "      <td>NaN</td>\n",
       "      <td>NaN</td>\n",
       "      <td>2017-07-18 16:08:03 +0000</td>\n",
       "      <td>&lt;a href=\"http://twitter.com/download/iphone\" r...</td>\n",
       "      <td>You may not have known you needed to see this ...</td>\n",
       "      <td>NaN</td>\n",
       "      <td>NaN</td>\n",
       "      <td>NaN</td>\n",
       "      <td>https://twitter.com/dog_rates/status/887343217...</td>\n",
       "      <td>13</td>\n",
       "      <td>10</td>\n",
       "      <td>None</td>\n",
       "      <td>None</td>\n",
       "      <td>None</td>\n",
       "      <td>None</td>\n",
       "      <td>None</td>\n",
       "    </tr>\n",
       "    <tr>\n",
       "      <td>25</td>\n",
       "      <td>887101392804085760</td>\n",
       "      <td>NaN</td>\n",
       "      <td>NaN</td>\n",
       "      <td>2017-07-18 00:07:08 +0000</td>\n",
       "      <td>&lt;a href=\"http://twitter.com/download/iphone\" r...</td>\n",
       "      <td>This... is a Jubilant Antarctic House Bear. We...</td>\n",
       "      <td>NaN</td>\n",
       "      <td>NaN</td>\n",
       "      <td>NaN</td>\n",
       "      <td>https://twitter.com/dog_rates/status/887101392...</td>\n",
       "      <td>12</td>\n",
       "      <td>10</td>\n",
       "      <td>None</td>\n",
       "      <td>None</td>\n",
       "      <td>None</td>\n",
       "      <td>None</td>\n",
       "      <td>None</td>\n",
       "    </tr>\n",
       "    <tr>\n",
       "      <td>...</td>\n",
       "      <td>...</td>\n",
       "      <td>...</td>\n",
       "      <td>...</td>\n",
       "      <td>...</td>\n",
       "      <td>...</td>\n",
       "      <td>...</td>\n",
       "      <td>...</td>\n",
       "      <td>...</td>\n",
       "      <td>...</td>\n",
       "      <td>...</td>\n",
       "      <td>...</td>\n",
       "      <td>...</td>\n",
       "      <td>...</td>\n",
       "      <td>...</td>\n",
       "      <td>...</td>\n",
       "      <td>...</td>\n",
       "      <td>...</td>\n",
       "    </tr>\n",
       "    <tr>\n",
       "      <td>2351</td>\n",
       "      <td>666049248165822465</td>\n",
       "      <td>NaN</td>\n",
       "      <td>NaN</td>\n",
       "      <td>2015-11-16 00:24:50 +0000</td>\n",
       "      <td>&lt;a href=\"http://twitter.com/download/iphone\" r...</td>\n",
       "      <td>Here we have a 1949 1st generation vulpix. Enj...</td>\n",
       "      <td>NaN</td>\n",
       "      <td>NaN</td>\n",
       "      <td>NaN</td>\n",
       "      <td>https://twitter.com/dog_rates/status/666049248...</td>\n",
       "      <td>5</td>\n",
       "      <td>10</td>\n",
       "      <td>None</td>\n",
       "      <td>None</td>\n",
       "      <td>None</td>\n",
       "      <td>None</td>\n",
       "      <td>None</td>\n",
       "    </tr>\n",
       "    <tr>\n",
       "      <td>2352</td>\n",
       "      <td>666044226329800704</td>\n",
       "      <td>NaN</td>\n",
       "      <td>NaN</td>\n",
       "      <td>2015-11-16 00:04:52 +0000</td>\n",
       "      <td>&lt;a href=\"http://twitter.com/download/iphone\" r...</td>\n",
       "      <td>This is a purebred Piers Morgan. Loves to Netf...</td>\n",
       "      <td>NaN</td>\n",
       "      <td>NaN</td>\n",
       "      <td>NaN</td>\n",
       "      <td>https://twitter.com/dog_rates/status/666044226...</td>\n",
       "      <td>6</td>\n",
       "      <td>10</td>\n",
       "      <td>a</td>\n",
       "      <td>None</td>\n",
       "      <td>None</td>\n",
       "      <td>None</td>\n",
       "      <td>None</td>\n",
       "    </tr>\n",
       "    <tr>\n",
       "      <td>2353</td>\n",
       "      <td>666033412701032449</td>\n",
       "      <td>NaN</td>\n",
       "      <td>NaN</td>\n",
       "      <td>2015-11-15 23:21:54 +0000</td>\n",
       "      <td>&lt;a href=\"http://twitter.com/download/iphone\" r...</td>\n",
       "      <td>Here is a very happy pup. Big fan of well-main...</td>\n",
       "      <td>NaN</td>\n",
       "      <td>NaN</td>\n",
       "      <td>NaN</td>\n",
       "      <td>https://twitter.com/dog_rates/status/666033412...</td>\n",
       "      <td>9</td>\n",
       "      <td>10</td>\n",
       "      <td>a</td>\n",
       "      <td>None</td>\n",
       "      <td>None</td>\n",
       "      <td>None</td>\n",
       "      <td>None</td>\n",
       "    </tr>\n",
       "    <tr>\n",
       "      <td>2354</td>\n",
       "      <td>666029285002620928</td>\n",
       "      <td>NaN</td>\n",
       "      <td>NaN</td>\n",
       "      <td>2015-11-15 23:05:30 +0000</td>\n",
       "      <td>&lt;a href=\"http://twitter.com/download/iphone\" r...</td>\n",
       "      <td>This is a western brown Mitsubishi terrier. Up...</td>\n",
       "      <td>NaN</td>\n",
       "      <td>NaN</td>\n",
       "      <td>NaN</td>\n",
       "      <td>https://twitter.com/dog_rates/status/666029285...</td>\n",
       "      <td>7</td>\n",
       "      <td>10</td>\n",
       "      <td>a</td>\n",
       "      <td>None</td>\n",
       "      <td>None</td>\n",
       "      <td>None</td>\n",
       "      <td>None</td>\n",
       "    </tr>\n",
       "    <tr>\n",
       "      <td>2355</td>\n",
       "      <td>666020888022790149</td>\n",
       "      <td>NaN</td>\n",
       "      <td>NaN</td>\n",
       "      <td>2015-11-15 22:32:08 +0000</td>\n",
       "      <td>&lt;a href=\"http://twitter.com/download/iphone\" r...</td>\n",
       "      <td>Here we have a Japanese Irish Setter. Lost eye...</td>\n",
       "      <td>NaN</td>\n",
       "      <td>NaN</td>\n",
       "      <td>NaN</td>\n",
       "      <td>https://twitter.com/dog_rates/status/666020888...</td>\n",
       "      <td>8</td>\n",
       "      <td>10</td>\n",
       "      <td>None</td>\n",
       "      <td>None</td>\n",
       "      <td>None</td>\n",
       "      <td>None</td>\n",
       "      <td>None</td>\n",
       "    </tr>\n",
       "  </tbody>\n",
       "</table>\n",
       "<p>1399 rows × 17 columns</p>\n",
       "</div>"
      ],
      "text/plain": [
       "                tweet_id  in_reply_to_status_id  in_reply_to_user_id  \\\n",
       "7     890729181411237888                    NaN                  NaN   \n",
       "12    889665388333682689                    NaN                  NaN   \n",
       "23    887473957103951883                    NaN                  NaN   \n",
       "24    887343217045368832                    NaN                  NaN   \n",
       "25    887101392804085760                    NaN                  NaN   \n",
       "...                  ...                    ...                  ...   \n",
       "2351  666049248165822465                    NaN                  NaN   \n",
       "2352  666044226329800704                    NaN                  NaN   \n",
       "2353  666033412701032449                    NaN                  NaN   \n",
       "2354  666029285002620928                    NaN                  NaN   \n",
       "2355  666020888022790149                    NaN                  NaN   \n",
       "\n",
       "                      timestamp  \\\n",
       "7     2017-07-28 00:22:40 +0000   \n",
       "12    2017-07-25 01:55:32 +0000   \n",
       "23    2017-07-19 00:47:34 +0000   \n",
       "24    2017-07-18 16:08:03 +0000   \n",
       "25    2017-07-18 00:07:08 +0000   \n",
       "...                         ...   \n",
       "2351  2015-11-16 00:24:50 +0000   \n",
       "2352  2015-11-16 00:04:52 +0000   \n",
       "2353  2015-11-15 23:21:54 +0000   \n",
       "2354  2015-11-15 23:05:30 +0000   \n",
       "2355  2015-11-15 22:32:08 +0000   \n",
       "\n",
       "                                                 source  \\\n",
       "7     <a href=\"http://twitter.com/download/iphone\" r...   \n",
       "12    <a href=\"http://twitter.com/download/iphone\" r...   \n",
       "23    <a href=\"http://twitter.com/download/iphone\" r...   \n",
       "24    <a href=\"http://twitter.com/download/iphone\" r...   \n",
       "25    <a href=\"http://twitter.com/download/iphone\" r...   \n",
       "...                                                 ...   \n",
       "2351  <a href=\"http://twitter.com/download/iphone\" r...   \n",
       "2352  <a href=\"http://twitter.com/download/iphone\" r...   \n",
       "2353  <a href=\"http://twitter.com/download/iphone\" r...   \n",
       "2354  <a href=\"http://twitter.com/download/iphone\" r...   \n",
       "2355  <a href=\"http://twitter.com/download/iphone\" r...   \n",
       "\n",
       "                                                   text  retweeted_status_id  \\\n",
       "7     When you watch your owner call another dog a g...                  NaN   \n",
       "12    Here's a puppo that seems to be on the fence a...                  NaN   \n",
       "23    This is Canela. She attempted some fancy porch...                  NaN   \n",
       "24    You may not have known you needed to see this ...                  NaN   \n",
       "25    This... is a Jubilant Antarctic House Bear. We...                  NaN   \n",
       "...                                                 ...                  ...   \n",
       "2351  Here we have a 1949 1st generation vulpix. Enj...                  NaN   \n",
       "2352  This is a purebred Piers Morgan. Loves to Netf...                  NaN   \n",
       "2353  Here is a very happy pup. Big fan of well-main...                  NaN   \n",
       "2354  This is a western brown Mitsubishi terrier. Up...                  NaN   \n",
       "2355  Here we have a Japanese Irish Setter. Lost eye...                  NaN   \n",
       "\n",
       "      retweeted_status_user_id retweeted_status_timestamp  \\\n",
       "7                          NaN                        NaN   \n",
       "12                         NaN                        NaN   \n",
       "23                         NaN                        NaN   \n",
       "24                         NaN                        NaN   \n",
       "25                         NaN                        NaN   \n",
       "...                        ...                        ...   \n",
       "2351                       NaN                        NaN   \n",
       "2352                       NaN                        NaN   \n",
       "2353                       NaN                        NaN   \n",
       "2354                       NaN                        NaN   \n",
       "2355                       NaN                        NaN   \n",
       "\n",
       "                                          expanded_urls  rating_numerator  \\\n",
       "7     https://twitter.com/dog_rates/status/890729181...                13   \n",
       "12    https://twitter.com/dog_rates/status/889665388...                13   \n",
       "23    https://twitter.com/dog_rates/status/887473957...                13   \n",
       "24    https://twitter.com/dog_rates/status/887343217...                13   \n",
       "25    https://twitter.com/dog_rates/status/887101392...                12   \n",
       "...                                                 ...               ...   \n",
       "2351  https://twitter.com/dog_rates/status/666049248...                 5   \n",
       "2352  https://twitter.com/dog_rates/status/666044226...                 6   \n",
       "2353  https://twitter.com/dog_rates/status/666033412...                 9   \n",
       "2354  https://twitter.com/dog_rates/status/666029285...                 7   \n",
       "2355  https://twitter.com/dog_rates/status/666020888...                 8   \n",
       "\n",
       "      rating_denominator    name doggo floofer pupper  puppo  \n",
       "7                     10    None  None    None   None   None  \n",
       "12                    10    None  None    None   None  puppo  \n",
       "23                    10  Canela  None    None   None   None  \n",
       "24                    10    None  None    None   None   None  \n",
       "25                    10    None  None    None   None   None  \n",
       "...                  ...     ...   ...     ...    ...    ...  \n",
       "2351                  10    None  None    None   None   None  \n",
       "2352                  10       a  None    None   None   None  \n",
       "2353                  10       a  None    None   None   None  \n",
       "2354                  10       a  None    None   None   None  \n",
       "2355                  10    None  None    None   None   None  \n",
       "\n",
       "[1399 rows x 17 columns]"
      ]
     },
     "execution_count": 17,
     "metadata": {},
     "output_type": "execute_result"
    }
   ],
   "source": [
    "df_enhanced[df_enhanced['name'].duplicated()]"
   ]
  },
  {
   "cell_type": "code",
   "execution_count": 18,
   "metadata": {},
   "outputs": [
    {
     "data": {
      "text/plain": [
       "None       744\n",
       "a           54\n",
       "Charlie     11\n",
       "Lucy        10\n",
       "Cooper      10\n",
       "Oliver      10\n",
       "Lola         9\n",
       "Penny        9\n",
       "Tucker       9\n",
       "Winston      8\n",
       "Bo           8\n",
       "the          7\n",
       "Sadie        7\n",
       "Daisy        6\n",
       "Buddy        6\n",
       "Toby         6\n",
       "Bailey       6\n",
       "an           6\n",
       "Milo         5\n",
       "Bella        5\n",
       "Name: name, dtype: int64"
      ]
     },
     "execution_count": 18,
     "metadata": {},
     "output_type": "execute_result"
    }
   ],
   "source": [
    "\n",
    "duplicated=df_enhanced['name'][df_enhanced['name'].duplicated()]\n",
    "duplicated.value_counts().head(20)\n",
    "\n",
    "#many unreal names "
   ]
  },
  {
   "cell_type": "code",
   "execution_count": 19,
   "metadata": {},
   "outputs": [
    {
     "data": {
      "text/plain": [
       "1399"
      ]
     },
     "execution_count": 19,
     "metadata": {},
     "output_type": "execute_result"
    }
   ],
   "source": [
    "all_dup=df_enhanced['name'].duplicated().sum()\n",
    "all_dup"
   ]
  },
  {
   "cell_type": "code",
   "execution_count": 20,
   "metadata": {},
   "outputs": [],
   "source": [
    "name_none=df_enhanced.loc[df_enhanced['name'] =='None']"
   ]
  },
  {
   "cell_type": "code",
   "execution_count": 21,
   "metadata": {},
   "outputs": [
    {
     "data": {
      "text/plain": [
       "744"
      ]
     },
     "execution_count": 21,
     "metadata": {},
     "output_type": "execute_result"
    }
   ],
   "source": [
    "non_dup=name_none['name'].duplicated().sum()\n",
    "non_dup"
   ]
  },
  {
   "cell_type": "code",
   "execution_count": 22,
   "metadata": {},
   "outputs": [
    {
     "data": {
      "text/plain": [
       "655"
      ]
     },
     "execution_count": 22,
     "metadata": {},
     "output_type": "execute_result"
    }
   ],
   "source": [
    "#duplicated names but without None values\n",
    "dup=all_dup-non_dup\n",
    "dup"
   ]
  },
  {
   "cell_type": "code",
   "execution_count": 23,
   "metadata": {},
   "outputs": [
    {
     "data": {
      "text/plain": [
       "None         745\n",
       "a             55\n",
       "Charlie       12\n",
       "Oliver        11\n",
       "Cooper        11\n",
       "            ... \n",
       "Chef           1\n",
       "Birf           1\n",
       "Bayley         1\n",
       "Kota           1\n",
       "Scruffers      1\n",
       "Name: name, Length: 957, dtype: int64"
      ]
     },
     "execution_count": 23,
     "metadata": {},
     "output_type": "execute_result"
    }
   ],
   "source": [
    "df_enhanced['name'].value_counts()"
   ]
  },
  {
   "cell_type": "code",
   "execution_count": 24,
   "metadata": {},
   "outputs": [
    {
     "data": {
      "text/plain": [
       "2356"
      ]
     },
     "execution_count": 24,
     "metadata": {},
     "output_type": "execute_result"
    }
   ],
   "source": [
    "df_enhanced.tweet_id.value_counts().count()\n",
    "#no duplicated in id "
   ]
  },
  {
   "cell_type": "code",
   "execution_count": 25,
   "metadata": {},
   "outputs": [
    {
     "data": {
      "text/plain": [
       "137"
      ]
     },
     "execution_count": 25,
     "metadata": {},
     "output_type": "execute_result"
    }
   ],
   "source": [
    "df_enhanced['expanded_urls'].duplicated().sum()"
   ]
  },
  {
   "cell_type": "code",
   "execution_count": 26,
   "metadata": {},
   "outputs": [
    {
     "data": {
      "text/plain": [
       "59"
      ]
     },
     "execution_count": 26,
     "metadata": {},
     "output_type": "execute_result"
    }
   ],
   "source": [
    "null_url=df_enhanced['expanded_urls'].isnull().sum()\n",
    "null_url"
   ]
  },
  {
   "cell_type": "code",
   "execution_count": 27,
   "metadata": {},
   "outputs": [
    {
     "data": {
      "text/plain": [
       "True"
      ]
     },
     "execution_count": 27,
     "metadata": {},
     "output_type": "execute_result"
    }
   ],
   "source": [
    "img_pred['tweet_id'].is_unique"
   ]
  },
  {
   "cell_type": "code",
   "execution_count": 28,
   "metadata": {},
   "outputs": [
    {
     "data": {
      "text/html": [
       "<div>\n",
       "<style scoped>\n",
       "    .dataframe tbody tr th:only-of-type {\n",
       "        vertical-align: middle;\n",
       "    }\n",
       "\n",
       "    .dataframe tbody tr th {\n",
       "        vertical-align: top;\n",
       "    }\n",
       "\n",
       "    .dataframe thead th {\n",
       "        text-align: right;\n",
       "    }\n",
       "</style>\n",
       "<table border=\"1\" class=\"dataframe\">\n",
       "  <thead>\n",
       "    <tr style=\"text-align: right;\">\n",
       "      <th></th>\n",
       "      <th>tweet_id</th>\n",
       "      <th>in_reply_to_status_id</th>\n",
       "      <th>in_reply_to_user_id</th>\n",
       "      <th>timestamp</th>\n",
       "      <th>source</th>\n",
       "      <th>text</th>\n",
       "      <th>retweeted_status_id</th>\n",
       "      <th>retweeted_status_user_id</th>\n",
       "      <th>retweeted_status_timestamp</th>\n",
       "      <th>expanded_urls</th>\n",
       "      <th>rating_numerator</th>\n",
       "      <th>rating_denominator</th>\n",
       "      <th>name</th>\n",
       "      <th>doggo</th>\n",
       "      <th>floofer</th>\n",
       "      <th>pupper</th>\n",
       "      <th>puppo</th>\n",
       "    </tr>\n",
       "  </thead>\n",
       "  <tbody>\n",
       "  </tbody>\n",
       "</table>\n",
       "</div>"
      ],
      "text/plain": [
       "Empty DataFrame\n",
       "Columns: [tweet_id, in_reply_to_status_id, in_reply_to_user_id, timestamp, source, text, retweeted_status_id, retweeted_status_user_id, retweeted_status_timestamp, expanded_urls, rating_numerator, rating_denominator, name, doggo, floofer, pupper, puppo]\n",
       "Index: []"
      ]
     },
     "execution_count": 28,
     "metadata": {},
     "output_type": "execute_result"
    }
   ],
   "source": [
    "df_enhanced[df_enhanced['text'].duplicated()]"
   ]
  },
  {
   "cell_type": "code",
   "execution_count": 29,
   "metadata": {},
   "outputs": [
    {
     "data": {
      "text/plain": [
       "17    tweet_id\n",
       "dtype: object"
      ]
     },
     "execution_count": 29,
     "metadata": {},
     "output_type": "execute_result"
    }
   ],
   "source": [
    "all_col=pd.Series(list(df_enhanced)+list(img_pred))\n",
    "all_col[all_col.duplicated()]"
   ]
  },
  {
   "cell_type": "code",
   "execution_count": 30,
   "metadata": {},
   "outputs": [
    {
     "data": {
      "text/plain": [
       "12      558\n",
       "11      464\n",
       "10      461\n",
       "13      351\n",
       "9       158\n",
       "8       102\n",
       "7        55\n",
       "14       54\n",
       "5        37\n",
       "6        32\n",
       "3        19\n",
       "4        17\n",
       "1         9\n",
       "2         9\n",
       "420       2\n",
       "0         2\n",
       "15        2\n",
       "75        2\n",
       "80        1\n",
       "20        1\n",
       "24        1\n",
       "26        1\n",
       "44        1\n",
       "50        1\n",
       "60        1\n",
       "165       1\n",
       "84        1\n",
       "88        1\n",
       "144       1\n",
       "182       1\n",
       "143       1\n",
       "666       1\n",
       "960       1\n",
       "1776      1\n",
       "17        1\n",
       "27        1\n",
       "45        1\n",
       "99        1\n",
       "121       1\n",
       "204       1\n",
       "Name: rating_numerator, dtype: int64"
      ]
     },
     "execution_count": 30,
     "metadata": {},
     "output_type": "execute_result"
    }
   ],
   "source": [
    "df_enhanced['rating_numerator'].value_counts()"
   ]
  },
  {
   "cell_type": "code",
   "execution_count": 31,
   "metadata": {},
   "outputs": [
    {
     "data": {
      "text/plain": [
       "10     2333\n",
       "11        3\n",
       "50        3\n",
       "80        2\n",
       "20        2\n",
       "2         1\n",
       "16        1\n",
       "40        1\n",
       "70        1\n",
       "15        1\n",
       "90        1\n",
       "110       1\n",
       "120       1\n",
       "130       1\n",
       "150       1\n",
       "170       1\n",
       "7         1\n",
       "0         1\n",
       "Name: rating_denominator, dtype: int64"
      ]
     },
     "execution_count": 31,
     "metadata": {},
     "output_type": "execute_result"
    }
   ],
   "source": [
    "df_enhanced['rating_denominator'].value_counts()"
   ]
  },
  {
   "cell_type": "code",
   "execution_count": 32,
   "metadata": {},
   "outputs": [
    {
     "data": {
      "text/plain": [
       "1532"
      ]
     },
     "execution_count": 32,
     "metadata": {},
     "output_type": "execute_result"
    }
   ],
   "source": [
    "img_pred.p1_dog[img_pred.p1_dog==True].count()\n"
   ]
  },
  {
   "cell_type": "code",
   "execution_count": 33,
   "metadata": {},
   "outputs": [
    {
     "data": {
      "text/plain": [
       "543"
      ]
     },
     "execution_count": 33,
     "metadata": {},
     "output_type": "execute_result"
    }
   ],
   "source": [
    "img_pred.p1_dog[img_pred.p1_dog==False].count()"
   ]
  },
  {
   "cell_type": "code",
   "execution_count": 34,
   "metadata": {},
   "outputs": [
    {
     "data": {
      "text/plain": [
       "2354"
      ]
     },
     "execution_count": 34,
     "metadata": {},
     "output_type": "execute_result"
    }
   ],
   "source": [
    "tweet_info['id'].nunique()\n",
    "#so all columns are unique"
   ]
  },
  {
   "cell_type": "code",
   "execution_count": 35,
   "metadata": {},
   "outputs": [
    {
     "data": {
      "text/plain": [
       "1972     5\n",
       "3652     5\n",
       "83       5\n",
       "146      4\n",
       "61       4\n",
       "        ..\n",
       "8209     1\n",
       "19       1\n",
       "2068     1\n",
       "30742    1\n",
       "0        1\n",
       "Name: retweet_count, Length: 1724, dtype: int64"
      ]
     },
     "execution_count": 35,
     "metadata": {},
     "output_type": "execute_result"
    }
   ],
   "source": [
    "tweet_info['retweet_count'].value_counts()"
   ]
  },
  {
   "cell_type": "code",
   "execution_count": 36,
   "metadata": {},
   "outputs": [
    {
     "data": {
      "text/plain": [
       "0        179\n",
       "610        3\n",
       "345        3\n",
       "2918       3\n",
       "1691       3\n",
       "        ... \n",
       "33345      1\n",
       "814        1\n",
       "23108      1\n",
       "2630       1\n",
       "8143       1\n",
       "Name: favorite_count, Length: 2007, dtype: int64"
      ]
     },
     "execution_count": 36,
     "metadata": {},
     "output_type": "execute_result"
    }
   ],
   "source": [
    "tweet_info['favorite_count'].value_counts()"
   ]
  },
  {
   "cell_type": "markdown",
   "metadata": {},
   "source": [
    "### Quality issue:\n",
    "\n",
    "\n",
    "- some missing values in columns 'doggo' , 'floofer' , 'pupper' ,'puppo' will extract it from 'text' column by extract('Regex')\n",
    "\n",
    "- replace caps to lowercase values in columns 'doggo' , 'floofer' , 'pupper' ,'puppo' after extracting from text\n",
    "\n",
    "- replace None values to null to be easy later (use isnull) in columns 'doggo' , 'floofer' , 'pupper' ,'puppo'\n",
    "\n",
    "- replace None values to null to be easy later (use isnull) in name column\n",
    "\n",
    "- change datatype of 'timestamp' , 'retweeted_status_timestamp' columns from string/object to datetime\n",
    "\n",
    "- change all 'rating_denominator' column values to 10\n",
    "\n",
    "- change all 'rating_numerator' column values to be large than 10 so the first number large than 10 is 11 , so will assign all values less than 10 to 11\n",
    "\n",
    "- incorrect dog names so extract it from text column by extract('Regex')\n",
    "\n",
    "- make breed column which contain name of breed of dog according to p1_dog which true \n",
    "- rename 'id' column in dataframe tweet_info into 'tweet_id'\n",
    "\n",
    "### Tidiness issue:\n",
    "\n",
    "- add new column called stage to save in it the dog stage which divided in 4 column 'doggo' , 'floofer' , 'pupper' ,'puppo' so merge them all in 1 colmn stage\n",
    "\n",
    "- add 'jpg_url' , 'type' columns to df_enhanced dataframe  \n",
    "- add 'retweet_count' , 'favorite_count' columns to df_enhanced dataframe \n"
   ]
  },
  {
   "cell_type": "markdown",
   "metadata": {},
   "source": [
    "### Cleaning data"
   ]
  },
  {
   "cell_type": "markdown",
   "metadata": {},
   "source": [
    "##### Define\n",
    "- extract stages values from text"
   ]
  },
  {
   "cell_type": "markdown",
   "metadata": {},
   "source": [
    "#### code"
   ]
  },
  {
   "cell_type": "code",
   "execution_count": 37,
   "metadata": {},
   "outputs": [
    {
     "data": {
      "text/plain": [
       "doggo    86\n",
       "Doggo     9\n",
       "Name: doggo, dtype: int64"
      ]
     },
     "execution_count": 37,
     "metadata": {},
     "output_type": "execute_result"
    }
   ],
   "source": [
    "df_enhanced['doggo'] = df_enhanced['text'].str.extract('\\\\b(doggo|Doggo)\\\\b', expand=True)[0]\n",
    "df_enhanced['doggo'].value_counts()\n"
   ]
  },
  {
   "cell_type": "code",
   "execution_count": 38,
   "metadata": {},
   "outputs": [
    {
     "data": {
      "text/plain": [
       "Floofer    6\n",
       "floofer    4\n",
       "Name: floofer, dtype: int64"
      ]
     },
     "execution_count": 38,
     "metadata": {},
     "output_type": "execute_result"
    }
   ],
   "source": [
    "df_enhanced['floofer'] = df_enhanced['text'].str.extract('\\\\b(floofer|Floofer)\\\\b', expand=True)[0]\n",
    "df_enhanced['floofer'].value_counts()\n"
   ]
  },
  {
   "cell_type": "code",
   "execution_count": 39,
   "metadata": {},
   "outputs": [
    {
     "data": {
      "text/plain": [
       "pupper    247\n",
       "Pupper      7\n",
       "Name: pupper, dtype: int64"
      ]
     },
     "execution_count": 39,
     "metadata": {},
     "output_type": "execute_result"
    }
   ],
   "source": [
    "df_enhanced['pupper'] = df_enhanced['text'].str.extract('\\\\b(pupper|Pupper)\\\\b', expand=True)[0]\n",
    "df_enhanced['pupper'].value_counts()\n"
   ]
  },
  {
   "cell_type": "code",
   "execution_count": 40,
   "metadata": {},
   "outputs": [
    {
     "data": {
      "text/plain": [
       "puppo    29\n",
       "Name: puppo, dtype: int64"
      ]
     },
     "execution_count": 40,
     "metadata": {},
     "output_type": "execute_result"
    }
   ],
   "source": [
    "df_enhanced['puppo'] = df_enhanced['text'].str.extract('\\\\b(puppo|Puppo)\\\\b', expand=True)[0]\n",
    "df_enhanced['puppo'].value_counts()\n"
   ]
  },
  {
   "cell_type": "markdown",
   "metadata": {},
   "source": [
    "##### Test\n",
    " "
   ]
  },
  {
   "cell_type": "code",
   "execution_count": 41,
   "metadata": {},
   "outputs": [
    {
     "name": "stdout",
     "output_type": "stream",
     "text": [
      "doggo    86\n",
      "Doggo     9\n",
      "Name: doggo, dtype: int64\n",
      "Floofer    6\n",
      "floofer    4\n",
      "Name: floofer, dtype: int64\n",
      "pupper    247\n",
      "Pupper      7\n",
      "Name: pupper, dtype: int64\n",
      "puppo    29\n",
      "Name: puppo, dtype: int64\n"
     ]
    }
   ],
   "source": [
    "print(df_enhanced['doggo'].value_counts())\n",
    "print(df_enhanced['floofer'].value_counts())\n",
    "print(df_enhanced['pupper'].value_counts())\n",
    "print(df_enhanced['puppo'].value_counts())"
   ]
  },
  {
   "cell_type": "markdown",
   "metadata": {},
   "source": [
    "##### Define\n",
    "- replace capitalcase to lowercase in 4 stages "
   ]
  },
  {
   "cell_type": "markdown",
   "metadata": {},
   "source": [
    "#### Code"
   ]
  },
  {
   "cell_type": "code",
   "execution_count": 42,
   "metadata": {},
   "outputs": [],
   "source": [
    "df_enhanced.doggo.replace(\"Doggo\",\"doggo\",inplace=True)\n",
    "df_enhanced.puppo.replace(\"Puppo\",\"puppo\",inplace=True)\n",
    "df_enhanced.pupper.replace(\"Pupper\",\"pupper\",inplace=True)\n",
    "df_enhanced.floofer.replace(\"Floofer\",\"floofer\",inplace=True)\n",
    "\n"
   ]
  },
  {
   "cell_type": "markdown",
   "metadata": {},
   "source": [
    "##### Test\n",
    " "
   ]
  },
  {
   "cell_type": "code",
   "execution_count": 43,
   "metadata": {},
   "outputs": [
    {
     "name": "stdout",
     "output_type": "stream",
     "text": [
      "doggo    95\n",
      "Name: doggo, dtype: int64\n",
      "floofer    10\n",
      "Name: floofer, dtype: int64\n",
      "pupper    254\n",
      "Name: pupper, dtype: int64\n",
      "puppo    29\n",
      "Name: puppo, dtype: int64\n"
     ]
    }
   ],
   "source": [
    "print(df_enhanced['doggo'].value_counts())\n",
    "print(df_enhanced['floofer'].value_counts())\n",
    "print(df_enhanced['pupper'].value_counts())\n",
    "print(df_enhanced['puppo'].value_counts())"
   ]
  },
  {
   "cell_type": "markdown",
   "metadata": {},
   "source": [
    "##### Define\n",
    "- replace None values to Null in 4 stages "
   ]
  },
  {
   "cell_type": "markdown",
   "metadata": {},
   "source": [
    "#### Code"
   ]
  },
  {
   "cell_type": "code",
   "execution_count": 44,
   "metadata": {},
   "outputs": [],
   "source": [
    "df_enhanced['doggo'].replace(to_replace=[None], value=np.nan, inplace=True)\n",
    "df_enhanced['floofer'].replace(to_replace=[None], value=np.nan, inplace=True)\n",
    "df_enhanced['pupper'].replace(to_replace=[None], value=np.nan, inplace=True)\n",
    "df_enhanced['puppo'].replace(to_replace=[None], value=np.nan, inplace=True)"
   ]
  },
  {
   "cell_type": "markdown",
   "metadata": {},
   "source": [
    "##### Test\n",
    " "
   ]
  },
  {
   "cell_type": "code",
   "execution_count": 45,
   "metadata": {},
   "outputs": [
    {
     "name": "stdout",
     "output_type": "stream",
     "text": [
      "2261\n",
      "2346\n",
      "2102\n",
      "2327\n"
     ]
    }
   ],
   "source": [
    "print(df_enhanced['doggo'].isnull().sum())\n",
    "print(df_enhanced['floofer'].isnull().sum())\n",
    "print(df_enhanced['pupper'].isnull().sum())\n",
    "print(df_enhanced['puppo'].isnull().sum())"
   ]
  },
  {
   "cell_type": "markdown",
   "metadata": {},
   "source": [
    "##### Define\n",
    "- replace None values to Null in name column "
   ]
  },
  {
   "cell_type": "markdown",
   "metadata": {},
   "source": [
    "#### Code"
   ]
  },
  {
   "cell_type": "code",
   "execution_count": 46,
   "metadata": {},
   "outputs": [],
   "source": [
    "df_enhanced['name'].replace(to_replace=['None'], value=np.nan, inplace=True)\n"
   ]
  },
  {
   "cell_type": "markdown",
   "metadata": {},
   "source": [
    "#### Test"
   ]
  },
  {
   "cell_type": "code",
   "execution_count": 47,
   "metadata": {},
   "outputs": [
    {
     "name": "stdout",
     "output_type": "stream",
     "text": [
      "a          55\n",
      "Charlie    12\n",
      "Lucy       11\n",
      "Oliver     11\n",
      "Cooper     11\n",
      "           ..\n",
      "Bayley      1\n",
      "Kota        1\n",
      "Chloe       1\n",
      "Jeb         1\n",
      "O           1\n",
      "Name: name, Length: 956, dtype: int64\n",
      "745\n"
     ]
    }
   ],
   "source": [
    "print(df_enhanced['name'].value_counts())\n",
    "print(df_enhanced['name'].isnull().sum())"
   ]
  },
  {
   "cell_type": "code",
   "execution_count": 48,
   "metadata": {},
   "outputs": [
    {
     "name": "stdout",
     "output_type": "stream",
     "text": [
      "<class 'pandas.core.frame.DataFrame'>\n",
      "RangeIndex: 2356 entries, 0 to 2355\n",
      "Data columns (total 17 columns):\n",
      "tweet_id                      2356 non-null int64\n",
      "in_reply_to_status_id         78 non-null float64\n",
      "in_reply_to_user_id           78 non-null float64\n",
      "timestamp                     2356 non-null object\n",
      "source                        2356 non-null object\n",
      "text                          2356 non-null object\n",
      "retweeted_status_id           181 non-null float64\n",
      "retweeted_status_user_id      181 non-null float64\n",
      "retweeted_status_timestamp    181 non-null object\n",
      "expanded_urls                 2297 non-null object\n",
      "rating_numerator              2356 non-null int64\n",
      "rating_denominator            2356 non-null int64\n",
      "name                          1611 non-null object\n",
      "doggo                         95 non-null object\n",
      "floofer                       10 non-null object\n",
      "pupper                        254 non-null object\n",
      "puppo                         29 non-null object\n",
      "dtypes: float64(4), int64(3), object(10)\n",
      "memory usage: 313.0+ KB\n"
     ]
    }
   ],
   "source": [
    "df_enhanced.info()"
   ]
  },
  {
   "cell_type": "markdown",
   "metadata": {},
   "source": [
    "##### Define\n",
    "- change 'timestamp' coulmn datatype from string / object to datetime \n",
    "-  change 'retweeted_status_timestamp' coulmn datatype from string / object to datetime "
   ]
  },
  {
   "cell_type": "markdown",
   "metadata": {},
   "source": [
    "#### Code"
   ]
  },
  {
   "cell_type": "code",
   "execution_count": 49,
   "metadata": {},
   "outputs": [],
   "source": [
    "df_enhanced['timestamp']=pd.to_datetime(df_enhanced['timestamp'])"
   ]
  },
  {
   "cell_type": "code",
   "execution_count": 50,
   "metadata": {},
   "outputs": [],
   "source": [
    "df_enhanced['retweeted_status_timestamp']=pd.to_datetime(df_enhanced['retweeted_status_timestamp'])"
   ]
  },
  {
   "cell_type": "markdown",
   "metadata": {},
   "source": [
    "#### Test"
   ]
  },
  {
   "cell_type": "markdown",
   "metadata": {},
   "source": [
    "#### Define\n",
    "- change all 'rating_denominator' column values to 10\n",
    "- change all 'rating_numerator' column assign all values 11"
   ]
  },
  {
   "cell_type": "markdown",
   "metadata": {},
   "source": [
    "#### Code"
   ]
  },
  {
   "cell_type": "code",
   "execution_count": 51,
   "metadata": {},
   "outputs": [
    {
     "name": "stderr",
     "output_type": "stream",
     "text": [
      "C:\\Users\\pc\\Anaconda3\\lib\\site-packages\\ipykernel_launcher.py:1: SettingWithCopyWarning: \n",
      "A value is trying to be set on a copy of a slice from a DataFrame\n",
      "\n",
      "See the caveats in the documentation: http://pandas.pydata.org/pandas-docs/stable/user_guide/indexing.html#returning-a-view-versus-a-copy\n",
      "  \"\"\"Entry point for launching an IPython kernel.\n"
     ]
    }
   ],
   "source": [
    "df_enhanced['rating_denominator'][df_enhanced['rating_denominator'] != 10] =10"
   ]
  },
  {
   "cell_type": "code",
   "execution_count": 52,
   "metadata": {},
   "outputs": [
    {
     "name": "stderr",
     "output_type": "stream",
     "text": [
      "C:\\Users\\pc\\Anaconda3\\lib\\site-packages\\ipykernel_launcher.py:1: SettingWithCopyWarning: \n",
      "A value is trying to be set on a copy of a slice from a DataFrame\n",
      "\n",
      "See the caveats in the documentation: http://pandas.pydata.org/pandas-docs/stable/user_guide/indexing.html#returning-a-view-versus-a-copy\n",
      "  \"\"\"Entry point for launching an IPython kernel.\n"
     ]
    }
   ],
   "source": [
    "df_enhanced['rating_numerator'][df_enhanced['rating_numerator'] <= 10] = 11"
   ]
  },
  {
   "cell_type": "markdown",
   "metadata": {},
   "source": [
    "#### Test"
   ]
  },
  {
   "cell_type": "code",
   "execution_count": 53,
   "metadata": {},
   "outputs": [
    {
     "data": {
      "text/plain": [
       "10    2356\n",
       "Name: rating_denominator, dtype: int64"
      ]
     },
     "execution_count": 53,
     "metadata": {},
     "output_type": "execute_result"
    }
   ],
   "source": [
    "df_enhanced['rating_denominator'].value_counts()"
   ]
  },
  {
   "cell_type": "code",
   "execution_count": 54,
   "metadata": {},
   "outputs": [
    {
     "data": {
      "text/plain": [
       "11      1365\n",
       "12       558\n",
       "13       351\n",
       "14        54\n",
       "15         2\n",
       "420        2\n",
       "75         2\n",
       "27         1\n",
       "88         1\n",
       "121        1\n",
       "20         1\n",
       "24         1\n",
       "26         1\n",
       "44         1\n",
       "50         1\n",
       "60         1\n",
       "80         1\n",
       "84         1\n",
       "144        1\n",
       "17         1\n",
       "182        1\n",
       "204        1\n",
       "143        1\n",
       "666        1\n",
       "960        1\n",
       "1776       1\n",
       "99         1\n",
       "45         1\n",
       "165        1\n",
       "Name: rating_numerator, dtype: int64"
      ]
     },
     "execution_count": 54,
     "metadata": {},
     "output_type": "execute_result"
    }
   ],
   "source": [
    "df_enhanced['rating_numerator'].value_counts()"
   ]
  },
  {
   "cell_type": "markdown",
   "metadata": {},
   "source": [
    "#### Define\n",
    "- extract dog name from 'text' column"
   ]
  },
  {
   "cell_type": "markdown",
   "metadata": {},
   "source": [
    "#### Code"
   ]
  },
  {
   "cell_type": "code",
   "execution_count": 55,
   "metadata": {},
   "outputs": [],
   "source": [
    "df_enhanced['name']=df_enhanced['text'].str.extract('((This is|Meet) ([A-Z][a-z]*)\\\\.)',expand=True)[2]"
   ]
  },
  {
   "cell_type": "markdown",
   "metadata": {},
   "source": [
    "#### Test"
   ]
  },
  {
   "cell_type": "code",
   "execution_count": 56,
   "metadata": {},
   "outputs": [
    {
     "data": {
      "text/plain": [
       "Charlie     11\n",
       "Lola        10\n",
       "Tucker      10\n",
       "Lucy        10\n",
       "Cooper       9\n",
       "            ..\n",
       "Patch        1\n",
       "Ridley       1\n",
       "Pluto        1\n",
       "Florence     1\n",
       "Taco         1\n",
       "Name: name, Length: 830, dtype: int64"
      ]
     },
     "execution_count": 56,
     "metadata": {},
     "output_type": "execute_result"
    }
   ],
   "source": [
    "df_enhanced['name'].value_counts()"
   ]
  },
  {
   "cell_type": "code",
   "execution_count": 57,
   "metadata": {},
   "outputs": [
    {
     "name": "stdout",
     "output_type": "stream",
     "text": [
      "<class 'pandas.core.frame.DataFrame'>\n",
      "RangeIndex: 2356 entries, 0 to 2355\n",
      "Data columns (total 17 columns):\n",
      "tweet_id                      2356 non-null int64\n",
      "in_reply_to_status_id         78 non-null float64\n",
      "in_reply_to_user_id           78 non-null float64\n",
      "timestamp                     2356 non-null datetime64[ns, UTC]\n",
      "source                        2356 non-null object\n",
      "text                          2356 non-null object\n",
      "retweeted_status_id           181 non-null float64\n",
      "retweeted_status_user_id      181 non-null float64\n",
      "retweeted_status_timestamp    181 non-null datetime64[ns, UTC]\n",
      "expanded_urls                 2297 non-null object\n",
      "rating_numerator              2356 non-null int64\n",
      "rating_denominator            2356 non-null int64\n",
      "name                          1319 non-null object\n",
      "doggo                         95 non-null object\n",
      "floofer                       10 non-null object\n",
      "pupper                        254 non-null object\n",
      "puppo                         29 non-null object\n",
      "dtypes: datetime64[ns, UTC](2), float64(4), int64(3), object(8)\n",
      "memory usage: 313.0+ KB\n"
     ]
    }
   ],
   "source": [
    "df_enhanced.info()"
   ]
  },
  {
   "cell_type": "markdown",
   "metadata": {},
   "source": [
    "#### Define\n",
    "- make breed column "
   ]
  },
  {
   "cell_type": "markdown",
   "metadata": {},
   "source": [
    "#### Code"
   ]
  },
  {
   "cell_type": "code",
   "execution_count": 58,
   "metadata": {},
   "outputs": [],
   "source": [
    "tmp = img_pred[(img_pred.p1_dog == True) | (img_pred.p2_dog == True) | (img_pred.p3_dog == True)]\n",
    "\n",
    "tmp2 = tmp[((tmp.p1_dog == True) | ((tmp.p1_dog == False) & (tmp.p2_dog == True) & (tmp.p3_dog == True)))]\n",
    "\n",
    "img_pred = tmp2[((tmp2.p1_conf < tmp2.p2_conf + tmp2.p3_conf) & (tmp2.p1_dog == False)) | (tmp2.p1_dog == True)]"
   ]
  },
  {
   "cell_type": "code",
   "execution_count": 59,
   "metadata": {},
   "outputs": [
    {
     "data": {
      "text/html": [
       "<div>\n",
       "<style scoped>\n",
       "    .dataframe tbody tr th:only-of-type {\n",
       "        vertical-align: middle;\n",
       "    }\n",
       "\n",
       "    .dataframe tbody tr th {\n",
       "        vertical-align: top;\n",
       "    }\n",
       "\n",
       "    .dataframe thead th {\n",
       "        text-align: right;\n",
       "    }\n",
       "</style>\n",
       "<table border=\"1\" class=\"dataframe\">\n",
       "  <thead>\n",
       "    <tr style=\"text-align: right;\">\n",
       "      <th></th>\n",
       "      <th>tweet_id</th>\n",
       "      <th>jpg_url</th>\n",
       "      <th>img_num</th>\n",
       "      <th>p1</th>\n",
       "      <th>p1_conf</th>\n",
       "      <th>p1_dog</th>\n",
       "      <th>p2</th>\n",
       "      <th>p2_conf</th>\n",
       "      <th>p2_dog</th>\n",
       "      <th>p3</th>\n",
       "      <th>p3_conf</th>\n",
       "      <th>p3_dog</th>\n",
       "    </tr>\n",
       "  </thead>\n",
       "  <tbody>\n",
       "    <tr>\n",
       "      <td>0</td>\n",
       "      <td>666020888022790149</td>\n",
       "      <td>https://pbs.twimg.com/media/CT4udn0WwAA0aMy.jpg</td>\n",
       "      <td>1</td>\n",
       "      <td>Welsh_springer_spaniel</td>\n",
       "      <td>0.465074</td>\n",
       "      <td>True</td>\n",
       "      <td>collie</td>\n",
       "      <td>0.156665</td>\n",
       "      <td>True</td>\n",
       "      <td>Shetland_sheepdog</td>\n",
       "      <td>0.061428</td>\n",
       "      <td>True</td>\n",
       "    </tr>\n",
       "    <tr>\n",
       "      <td>1</td>\n",
       "      <td>666029285002620928</td>\n",
       "      <td>https://pbs.twimg.com/media/CT42GRgUYAA5iDo.jpg</td>\n",
       "      <td>1</td>\n",
       "      <td>redbone</td>\n",
       "      <td>0.506826</td>\n",
       "      <td>True</td>\n",
       "      <td>miniature_pinscher</td>\n",
       "      <td>0.074192</td>\n",
       "      <td>True</td>\n",
       "      <td>Rhodesian_ridgeback</td>\n",
       "      <td>0.072010</td>\n",
       "      <td>True</td>\n",
       "    </tr>\n",
       "    <tr>\n",
       "      <td>2</td>\n",
       "      <td>666033412701032449</td>\n",
       "      <td>https://pbs.twimg.com/media/CT4521TWwAEvMyu.jpg</td>\n",
       "      <td>1</td>\n",
       "      <td>German_shepherd</td>\n",
       "      <td>0.596461</td>\n",
       "      <td>True</td>\n",
       "      <td>malinois</td>\n",
       "      <td>0.138584</td>\n",
       "      <td>True</td>\n",
       "      <td>bloodhound</td>\n",
       "      <td>0.116197</td>\n",
       "      <td>True</td>\n",
       "    </tr>\n",
       "    <tr>\n",
       "      <td>3</td>\n",
       "      <td>666044226329800704</td>\n",
       "      <td>https://pbs.twimg.com/media/CT5Dr8HUEAA-lEu.jpg</td>\n",
       "      <td>1</td>\n",
       "      <td>Rhodesian_ridgeback</td>\n",
       "      <td>0.408143</td>\n",
       "      <td>True</td>\n",
       "      <td>redbone</td>\n",
       "      <td>0.360687</td>\n",
       "      <td>True</td>\n",
       "      <td>miniature_pinscher</td>\n",
       "      <td>0.222752</td>\n",
       "      <td>True</td>\n",
       "    </tr>\n",
       "    <tr>\n",
       "      <td>4</td>\n",
       "      <td>666049248165822465</td>\n",
       "      <td>https://pbs.twimg.com/media/CT5IQmsXIAAKY4A.jpg</td>\n",
       "      <td>1</td>\n",
       "      <td>miniature_pinscher</td>\n",
       "      <td>0.560311</td>\n",
       "      <td>True</td>\n",
       "      <td>Rottweiler</td>\n",
       "      <td>0.243682</td>\n",
       "      <td>True</td>\n",
       "      <td>Doberman</td>\n",
       "      <td>0.154629</td>\n",
       "      <td>True</td>\n",
       "    </tr>\n",
       "  </tbody>\n",
       "</table>\n",
       "</div>"
      ],
      "text/plain": [
       "             tweet_id                                          jpg_url  \\\n",
       "0  666020888022790149  https://pbs.twimg.com/media/CT4udn0WwAA0aMy.jpg   \n",
       "1  666029285002620928  https://pbs.twimg.com/media/CT42GRgUYAA5iDo.jpg   \n",
       "2  666033412701032449  https://pbs.twimg.com/media/CT4521TWwAEvMyu.jpg   \n",
       "3  666044226329800704  https://pbs.twimg.com/media/CT5Dr8HUEAA-lEu.jpg   \n",
       "4  666049248165822465  https://pbs.twimg.com/media/CT5IQmsXIAAKY4A.jpg   \n",
       "\n",
       "   img_num                      p1   p1_conf  p1_dog                  p2  \\\n",
       "0        1  Welsh_springer_spaniel  0.465074    True              collie   \n",
       "1        1                 redbone  0.506826    True  miniature_pinscher   \n",
       "2        1         German_shepherd  0.596461    True            malinois   \n",
       "3        1     Rhodesian_ridgeback  0.408143    True             redbone   \n",
       "4        1      miniature_pinscher  0.560311    True          Rottweiler   \n",
       "\n",
       "    p2_conf  p2_dog                   p3   p3_conf  p3_dog  \n",
       "0  0.156665    True    Shetland_sheepdog  0.061428    True  \n",
       "1  0.074192    True  Rhodesian_ridgeback  0.072010    True  \n",
       "2  0.138584    True           bloodhound  0.116197    True  \n",
       "3  0.360687    True   miniature_pinscher  0.222752    True  \n",
       "4  0.243682    True             Doberman  0.154629    True  "
      ]
     },
     "execution_count": 59,
     "metadata": {},
     "output_type": "execute_result"
    }
   ],
   "source": [
    "img_pred.head()"
   ]
  },
  {
   "cell_type": "code",
   "execution_count": 60,
   "metadata": {},
   "outputs": [
    {
     "name": "stderr",
     "output_type": "stream",
     "text": [
      "C:\\Users\\pc\\Anaconda3\\lib\\site-packages\\ipykernel_launcher.py:1: SettingWithCopyWarning: \n",
      "A value is trying to be set on a copy of a slice from a DataFrame.\n",
      "Try using .loc[row_indexer,col_indexer] = value instead\n",
      "\n",
      "See the caveats in the documentation: http://pandas.pydata.org/pandas-docs/stable/user_guide/indexing.html#returning-a-view-versus-a-copy\n",
      "  \"\"\"Entry point for launching an IPython kernel.\n",
      "C:\\Users\\pc\\Anaconda3\\lib\\site-packages\\ipykernel_launcher.py:3: SettingWithCopyWarning: \n",
      "A value is trying to be set on a copy of a slice from a DataFrame\n",
      "\n",
      "See the caveats in the documentation: http://pandas.pydata.org/pandas-docs/stable/user_guide/indexing.html#returning-a-view-versus-a-copy\n",
      "  This is separate from the ipykernel package so we can avoid doing imports until\n",
      "C:\\Users\\pc\\Anaconda3\\lib\\site-packages\\pandas\\core\\generic.py:9114: SettingWithCopyWarning: \n",
      "A value is trying to be set on a copy of a slice from a DataFrame\n",
      "\n",
      "See the caveats in the documentation: http://pandas.pydata.org/pandas-docs/stable/user_guide/indexing.html#returning-a-view-versus-a-copy\n",
      "  self._update_inplace(new_data)\n",
      "C:\\Users\\pc\\Anaconda3\\lib\\site-packages\\IPython\\core\\interactiveshell.py:3326: SettingWithCopyWarning: \n",
      "A value is trying to be set on a copy of a slice from a DataFrame\n",
      "\n",
      "See the caveats in the documentation: http://pandas.pydata.org/pandas-docs/stable/user_guide/indexing.html#returning-a-view-versus-a-copy\n",
      "  exec(code_obj, self.user_global_ns, self.user_ns)\n"
     ]
    }
   ],
   "source": [
    "img_pred[\"breed\"] = None\n",
    "\n",
    "img_pred.breed[img_pred['p1_dog'] == True] = img_pred[img_pred['p1_dog'] == True].p1"
   ]
  },
  {
   "cell_type": "markdown",
   "metadata": {},
   "source": [
    "#### Test"
   ]
  },
  {
   "cell_type": "code",
   "execution_count": 61,
   "metadata": {},
   "outputs": [
    {
     "data": {
      "text/plain": [
       "golden_retriever      150\n",
       "Labrador_retriever    100\n",
       "Pembroke               89\n",
       "Chihuahua              83\n",
       "pug                    57\n",
       "                     ... \n",
       "EntleBucher             1\n",
       "silky_terrier           1\n",
       "standard_schnauzer      1\n",
       "clumber                 1\n",
       "Japanese_spaniel        1\n",
       "Name: breed, Length: 111, dtype: int64"
      ]
     },
     "execution_count": 61,
     "metadata": {},
     "output_type": "execute_result"
    }
   ],
   "source": [
    "img_pred['breed'].value_counts()"
   ]
  },
  {
   "cell_type": "markdown",
   "metadata": {},
   "source": [
    "#### Define\n",
    "- merge all 4 variables of dog stages in 1 variable column"
   ]
  },
  {
   "cell_type": "markdown",
   "metadata": {},
   "source": [
    "#### Code"
   ]
  },
  {
   "cell_type": "code",
   "execution_count": 62,
   "metadata": {},
   "outputs": [],
   "source": [
    "df_enhanced[\"stage\"] = (df_enhanced.doggo.fillna(\"\")+df_enhanced.floofer.fillna(\"\")+df_enhanced.pupper.fillna(\"\")+df_enhanced.puppo.fillna(\"\"))"
   ]
  },
  {
   "cell_type": "code",
   "execution_count": 63,
   "metadata": {},
   "outputs": [
    {
     "name": "stdout",
     "output_type": "stream",
     "text": [
      "<class 'pandas.core.frame.DataFrame'>\n",
      "RangeIndex: 2356 entries, 0 to 2355\n",
      "Data columns (total 18 columns):\n",
      "tweet_id                      2356 non-null int64\n",
      "in_reply_to_status_id         78 non-null float64\n",
      "in_reply_to_user_id           78 non-null float64\n",
      "timestamp                     2356 non-null datetime64[ns, UTC]\n",
      "source                        2356 non-null object\n",
      "text                          2356 non-null object\n",
      "retweeted_status_id           181 non-null float64\n",
      "retweeted_status_user_id      181 non-null float64\n",
      "retweeted_status_timestamp    181 non-null datetime64[ns, UTC]\n",
      "expanded_urls                 2297 non-null object\n",
      "rating_numerator              2356 non-null int64\n",
      "rating_denominator            2356 non-null int64\n",
      "name                          1319 non-null object\n",
      "doggo                         95 non-null object\n",
      "floofer                       10 non-null object\n",
      "pupper                        254 non-null object\n",
      "puppo                         29 non-null object\n",
      "stage                         2356 non-null object\n",
      "dtypes: datetime64[ns, UTC](2), float64(4), int64(3), object(9)\n",
      "memory usage: 331.4+ KB\n"
     ]
    }
   ],
   "source": [
    "df_enhanced.info()"
   ]
  },
  {
   "cell_type": "code",
   "execution_count": 64,
   "metadata": {},
   "outputs": [],
   "source": [
    "df_enhanced[\"stage\"] = df_enhanced[\"stage\"].replace(\"\",np.nan)"
   ]
  },
  {
   "cell_type": "code",
   "execution_count": 65,
   "metadata": {},
   "outputs": [],
   "source": [
    "#because text contain doggo which first stage \n",
    "df_enhanced.stage.replace(\"doggopupper\",\"doggo\",inplace=True)\n",
    "df_enhanced.stage.replace(\"doggofloofer\",\"doggo\",inplace=True)\n",
    "df_enhanced.stage.replace(\"doggopuppo\",\"doggo\",inplace=True)"
   ]
  },
  {
   "cell_type": "markdown",
   "metadata": {},
   "source": [
    "#### Test"
   ]
  },
  {
   "cell_type": "code",
   "execution_count": 66,
   "metadata": {},
   "outputs": [
    {
     "data": {
      "text/plain": [
       "pupper     243\n",
       "doggo       95\n",
       "puppo       28\n",
       "floofer      9\n",
       "Name: stage, dtype: int64"
      ]
     },
     "execution_count": 66,
     "metadata": {},
     "output_type": "execute_result"
    }
   ],
   "source": [
    "df_enhanced[\"stage\"].value_counts()"
   ]
  },
  {
   "cell_type": "markdown",
   "metadata": {},
   "source": [
    "#### Define\n",
    "- rename column 'id' in dataframe tweet_info to be 'tweet_id'"
   ]
  },
  {
   "cell_type": "markdown",
   "metadata": {},
   "source": [
    "#### code "
   ]
  },
  {
   "cell_type": "code",
   "execution_count": 67,
   "metadata": {},
   "outputs": [],
   "source": [
    "tweet_info.rename(columns={'id': 'tweet_id'},inplace=True)"
   ]
  },
  {
   "cell_type": "markdown",
   "metadata": {},
   "source": [
    "#### test"
   ]
  },
  {
   "cell_type": "code",
   "execution_count": 68,
   "metadata": {},
   "outputs": [
    {
     "name": "stdout",
     "output_type": "stream",
     "text": [
      "<class 'pandas.core.frame.DataFrame'>\n",
      "RangeIndex: 2354 entries, 0 to 2353\n",
      "Data columns (total 31 columns):\n",
      "created_at                       2354 non-null datetime64[ns, UTC]\n",
      "tweet_id                         2354 non-null int64\n",
      "id_str                           2354 non-null int64\n",
      "full_text                        2354 non-null object\n",
      "truncated                        2354 non-null bool\n",
      "display_text_range               2354 non-null object\n",
      "entities                         2354 non-null object\n",
      "extended_entities                2073 non-null object\n",
      "source                           2354 non-null object\n",
      "in_reply_to_status_id            78 non-null float64\n",
      "in_reply_to_status_id_str        78 non-null float64\n",
      "in_reply_to_user_id              78 non-null float64\n",
      "in_reply_to_user_id_str          78 non-null float64\n",
      "in_reply_to_screen_name          78 non-null object\n",
      "user                             2354 non-null object\n",
      "geo                              0 non-null float64\n",
      "coordinates                      0 non-null float64\n",
      "place                            1 non-null object\n",
      "contributors                     0 non-null float64\n",
      "is_quote_status                  2354 non-null bool\n",
      "retweet_count                    2354 non-null int64\n",
      "favorite_count                   2354 non-null int64\n",
      "favorited                        2354 non-null bool\n",
      "retweeted                        2354 non-null bool\n",
      "possibly_sensitive               2211 non-null float64\n",
      "possibly_sensitive_appealable    2211 non-null float64\n",
      "lang                             2354 non-null object\n",
      "retweeted_status                 179 non-null object\n",
      "quoted_status_id                 29 non-null float64\n",
      "quoted_status_id_str             29 non-null float64\n",
      "quoted_status                    28 non-null object\n",
      "dtypes: bool(4), datetime64[ns, UTC](1), float64(11), int64(4), object(11)\n",
      "memory usage: 505.9+ KB\n"
     ]
    }
   ],
   "source": [
    "tweet_info.info()"
   ]
  },
  {
   "cell_type": "markdown",
   "metadata": {},
   "source": [
    "#### Define \n",
    "- join from dataframe tweet_info the 2 columns 'retweet_count' , 'favorite_count' to df_enhanced dataframe "
   ]
  },
  {
   "cell_type": "markdown",
   "metadata": {},
   "source": [
    "#### code"
   ]
  },
  {
   "cell_type": "code",
   "execution_count": 69,
   "metadata": {},
   "outputs": [],
   "source": [
    "df_enhanced = pd.merge(df_enhanced,\n",
    "                 tweet_info[['retweet_count', 'favorite_count','tweet_id']],\n",
    "                 on='tweet_id', \n",
    "                 how='left')"
   ]
  },
  {
   "cell_type": "markdown",
   "metadata": {},
   "source": [
    "#### Test"
   ]
  },
  {
   "cell_type": "code",
   "execution_count": 70,
   "metadata": {},
   "outputs": [
    {
     "name": "stdout",
     "output_type": "stream",
     "text": [
      "<class 'pandas.core.frame.DataFrame'>\n",
      "Int64Index: 2356 entries, 0 to 2355\n",
      "Data columns (total 20 columns):\n",
      "tweet_id                      2356 non-null int64\n",
      "in_reply_to_status_id         78 non-null float64\n",
      "in_reply_to_user_id           78 non-null float64\n",
      "timestamp                     2356 non-null datetime64[ns, UTC]\n",
      "source                        2356 non-null object\n",
      "text                          2356 non-null object\n",
      "retweeted_status_id           181 non-null float64\n",
      "retweeted_status_user_id      181 non-null float64\n",
      "retweeted_status_timestamp    181 non-null datetime64[ns, UTC]\n",
      "expanded_urls                 2297 non-null object\n",
      "rating_numerator              2356 non-null int64\n",
      "rating_denominator            2356 non-null int64\n",
      "name                          1319 non-null object\n",
      "doggo                         95 non-null object\n",
      "floofer                       10 non-null object\n",
      "pupper                        254 non-null object\n",
      "puppo                         29 non-null object\n",
      "stage                         375 non-null object\n",
      "retweet_count                 2354 non-null float64\n",
      "favorite_count                2354 non-null float64\n",
      "dtypes: datetime64[ns, UTC](2), float64(6), int64(3), object(9)\n",
      "memory usage: 386.5+ KB\n"
     ]
    }
   ],
   "source": [
    "df_enhanced.info()"
   ]
  },
  {
   "cell_type": "markdown",
   "metadata": {},
   "source": [
    "#### Define\n",
    "- add 'jpg_url' ,'breed' to df_enhanced dataframe"
   ]
  },
  {
   "cell_type": "markdown",
   "metadata": {},
   "source": [
    "#### Code"
   ]
  },
  {
   "cell_type": "code",
   "execution_count": 71,
   "metadata": {},
   "outputs": [],
   "source": [
    "#merge\n",
    "df_enhanced = pd.merge(df_enhanced,img_pred[['tweet_id','jpg_url','breed']],on=\"tweet_id\")"
   ]
  },
  {
   "cell_type": "code",
   "execution_count": 72,
   "metadata": {},
   "outputs": [
    {
     "name": "stderr",
     "output_type": "stream",
     "text": [
      "C:\\Users\\pc\\Anaconda3\\lib\\site-packages\\pandas\\core\\frame.py:4102: SettingWithCopyWarning: \n",
      "A value is trying to be set on a copy of a slice from a DataFrame\n",
      "\n",
      "See the caveats in the documentation: http://pandas.pydata.org/pandas-docs/stable/user_guide/indexing.html#returning-a-view-versus-a-copy\n",
      "  errors=errors,\n"
     ]
    }
   ],
   "source": [
    "#then drop 'jpg_url' ,'breed' from img_pred table\n",
    "img_pred.drop('jpg_url', axis=1,inplace=True)\n",
    "img_pred.drop('breed', axis=1,inplace=True)\n",
    "\n"
   ]
  },
  {
   "cell_type": "markdown",
   "metadata": {},
   "source": [
    "####  Test"
   ]
  },
  {
   "cell_type": "code",
   "execution_count": 73,
   "metadata": {},
   "outputs": [
    {
     "name": "stdout",
     "output_type": "stream",
     "text": [
      "<class 'pandas.core.frame.DataFrame'>\n",
      "Int64Index: 1556 entries, 0 to 1555\n",
      "Data columns (total 22 columns):\n",
      "tweet_id                      1556 non-null int64\n",
      "in_reply_to_status_id         14 non-null float64\n",
      "in_reply_to_user_id           14 non-null float64\n",
      "timestamp                     1556 non-null datetime64[ns, UTC]\n",
      "source                        1556 non-null object\n",
      "text                          1556 non-null object\n",
      "retweeted_status_id           57 non-null float64\n",
      "retweeted_status_user_id      57 non-null float64\n",
      "retweeted_status_timestamp    57 non-null datetime64[ns, UTC]\n",
      "expanded_urls                 1556 non-null object\n",
      "rating_numerator              1556 non-null int64\n",
      "rating_denominator            1556 non-null int64\n",
      "name                          952 non-null object\n",
      "doggo                         62 non-null object\n",
      "floofer                       8 non-null object\n",
      "pupper                        160 non-null object\n",
      "puppo                         19 non-null object\n",
      "stage                         238 non-null object\n",
      "retweet_count                 1555 non-null float64\n",
      "favorite_count                1555 non-null float64\n",
      "jpg_url                       1556 non-null object\n",
      "breed                         1532 non-null object\n",
      "dtypes: datetime64[ns, UTC](2), float64(6), int64(3), object(11)\n",
      "memory usage: 279.6+ KB\n"
     ]
    }
   ],
   "source": [
    "df_enhanced.info()"
   ]
  },
  {
   "cell_type": "code",
   "execution_count": 74,
   "metadata": {},
   "outputs": [
    {
     "data": {
      "text/html": [
       "<div>\n",
       "<style scoped>\n",
       "    .dataframe tbody tr th:only-of-type {\n",
       "        vertical-align: middle;\n",
       "    }\n",
       "\n",
       "    .dataframe tbody tr th {\n",
       "        vertical-align: top;\n",
       "    }\n",
       "\n",
       "    .dataframe thead th {\n",
       "        text-align: right;\n",
       "    }\n",
       "</style>\n",
       "<table border=\"1\" class=\"dataframe\">\n",
       "  <thead>\n",
       "    <tr style=\"text-align: right;\">\n",
       "      <th></th>\n",
       "      <th>tweet_id</th>\n",
       "      <th>in_reply_to_status_id</th>\n",
       "      <th>in_reply_to_user_id</th>\n",
       "      <th>timestamp</th>\n",
       "      <th>source</th>\n",
       "      <th>text</th>\n",
       "      <th>retweeted_status_id</th>\n",
       "      <th>retweeted_status_user_id</th>\n",
       "      <th>retweeted_status_timestamp</th>\n",
       "      <th>expanded_urls</th>\n",
       "      <th>...</th>\n",
       "      <th>name</th>\n",
       "      <th>doggo</th>\n",
       "      <th>floofer</th>\n",
       "      <th>pupper</th>\n",
       "      <th>puppo</th>\n",
       "      <th>stage</th>\n",
       "      <th>retweet_count</th>\n",
       "      <th>favorite_count</th>\n",
       "      <th>jpg_url</th>\n",
       "      <th>breed</th>\n",
       "    </tr>\n",
       "  </thead>\n",
       "  <tbody>\n",
       "    <tr>\n",
       "      <td>0</td>\n",
       "      <td>892177421306343426</td>\n",
       "      <td>NaN</td>\n",
       "      <td>NaN</td>\n",
       "      <td>2017-08-01 00:17:27+00:00</td>\n",
       "      <td>&lt;a href=\"http://twitter.com/download/iphone\" r...</td>\n",
       "      <td>This is Tilly. She's just checking pup on you....</td>\n",
       "      <td>NaN</td>\n",
       "      <td>NaN</td>\n",
       "      <td>NaT</td>\n",
       "      <td>https://twitter.com/dog_rates/status/892177421...</td>\n",
       "      <td>...</td>\n",
       "      <td>Tilly</td>\n",
       "      <td>NaN</td>\n",
       "      <td>NaN</td>\n",
       "      <td>NaN</td>\n",
       "      <td>NaN</td>\n",
       "      <td>NaN</td>\n",
       "      <td>6514.0</td>\n",
       "      <td>33819.0</td>\n",
       "      <td>https://pbs.twimg.com/media/DGGmoV4XsAAUL6n.jpg</td>\n",
       "      <td>Chihuahua</td>\n",
       "    </tr>\n",
       "    <tr>\n",
       "      <td>1</td>\n",
       "      <td>891815181378084864</td>\n",
       "      <td>NaN</td>\n",
       "      <td>NaN</td>\n",
       "      <td>2017-07-31 00:18:03+00:00</td>\n",
       "      <td>&lt;a href=\"http://twitter.com/download/iphone\" r...</td>\n",
       "      <td>This is Archie. He is a rare Norwegian Pouncin...</td>\n",
       "      <td>NaN</td>\n",
       "      <td>NaN</td>\n",
       "      <td>NaT</td>\n",
       "      <td>https://twitter.com/dog_rates/status/891815181...</td>\n",
       "      <td>...</td>\n",
       "      <td>Archie</td>\n",
       "      <td>NaN</td>\n",
       "      <td>NaN</td>\n",
       "      <td>NaN</td>\n",
       "      <td>NaN</td>\n",
       "      <td>NaN</td>\n",
       "      <td>4328.0</td>\n",
       "      <td>25461.0</td>\n",
       "      <td>https://pbs.twimg.com/media/DGBdLU1WsAANxJ9.jpg</td>\n",
       "      <td>Chihuahua</td>\n",
       "    </tr>\n",
       "    <tr>\n",
       "      <td>2</td>\n",
       "      <td>891327558926688256</td>\n",
       "      <td>NaN</td>\n",
       "      <td>NaN</td>\n",
       "      <td>2017-07-29 16:00:24+00:00</td>\n",
       "      <td>&lt;a href=\"http://twitter.com/download/iphone\" r...</td>\n",
       "      <td>This is Franklin. He would like you to stop ca...</td>\n",
       "      <td>NaN</td>\n",
       "      <td>NaN</td>\n",
       "      <td>NaT</td>\n",
       "      <td>https://twitter.com/dog_rates/status/891327558...</td>\n",
       "      <td>...</td>\n",
       "      <td>Franklin</td>\n",
       "      <td>NaN</td>\n",
       "      <td>NaN</td>\n",
       "      <td>NaN</td>\n",
       "      <td>NaN</td>\n",
       "      <td>NaN</td>\n",
       "      <td>9774.0</td>\n",
       "      <td>41048.0</td>\n",
       "      <td>https://pbs.twimg.com/media/DF6hr6BUMAAzZgT.jpg</td>\n",
       "      <td>basset</td>\n",
       "    </tr>\n",
       "    <tr>\n",
       "      <td>3</td>\n",
       "      <td>891087950875897856</td>\n",
       "      <td>NaN</td>\n",
       "      <td>NaN</td>\n",
       "      <td>2017-07-29 00:08:17+00:00</td>\n",
       "      <td>&lt;a href=\"http://twitter.com/download/iphone\" r...</td>\n",
       "      <td>Here we have a majestic great white breaching ...</td>\n",
       "      <td>NaN</td>\n",
       "      <td>NaN</td>\n",
       "      <td>NaT</td>\n",
       "      <td>https://twitter.com/dog_rates/status/891087950...</td>\n",
       "      <td>...</td>\n",
       "      <td>NaN</td>\n",
       "      <td>NaN</td>\n",
       "      <td>NaN</td>\n",
       "      <td>NaN</td>\n",
       "      <td>NaN</td>\n",
       "      <td>NaN</td>\n",
       "      <td>3261.0</td>\n",
       "      <td>20562.0</td>\n",
       "      <td>https://pbs.twimg.com/media/DF3HwyEWsAABqE6.jpg</td>\n",
       "      <td>Chesapeake_Bay_retriever</td>\n",
       "    </tr>\n",
       "    <tr>\n",
       "      <td>4</td>\n",
       "      <td>890971913173991426</td>\n",
       "      <td>NaN</td>\n",
       "      <td>NaN</td>\n",
       "      <td>2017-07-28 16:27:12+00:00</td>\n",
       "      <td>&lt;a href=\"http://twitter.com/download/iphone\" r...</td>\n",
       "      <td>Meet Jax. He enjoys ice cream so much he gets ...</td>\n",
       "      <td>NaN</td>\n",
       "      <td>NaN</td>\n",
       "      <td>NaT</td>\n",
       "      <td>https://gofundme.com/ydvmve-surgery-for-jax,ht...</td>\n",
       "      <td>...</td>\n",
       "      <td>Jax</td>\n",
       "      <td>NaN</td>\n",
       "      <td>NaN</td>\n",
       "      <td>NaN</td>\n",
       "      <td>NaN</td>\n",
       "      <td>NaN</td>\n",
       "      <td>2158.0</td>\n",
       "      <td>12041.0</td>\n",
       "      <td>https://pbs.twimg.com/media/DF1eOmZXUAALUcq.jpg</td>\n",
       "      <td>Appenzeller</td>\n",
       "    </tr>\n",
       "  </tbody>\n",
       "</table>\n",
       "<p>5 rows × 22 columns</p>\n",
       "</div>"
      ],
      "text/plain": [
       "             tweet_id  in_reply_to_status_id  in_reply_to_user_id  \\\n",
       "0  892177421306343426                    NaN                  NaN   \n",
       "1  891815181378084864                    NaN                  NaN   \n",
       "2  891327558926688256                    NaN                  NaN   \n",
       "3  891087950875897856                    NaN                  NaN   \n",
       "4  890971913173991426                    NaN                  NaN   \n",
       "\n",
       "                  timestamp  \\\n",
       "0 2017-08-01 00:17:27+00:00   \n",
       "1 2017-07-31 00:18:03+00:00   \n",
       "2 2017-07-29 16:00:24+00:00   \n",
       "3 2017-07-29 00:08:17+00:00   \n",
       "4 2017-07-28 16:27:12+00:00   \n",
       "\n",
       "                                              source  \\\n",
       "0  <a href=\"http://twitter.com/download/iphone\" r...   \n",
       "1  <a href=\"http://twitter.com/download/iphone\" r...   \n",
       "2  <a href=\"http://twitter.com/download/iphone\" r...   \n",
       "3  <a href=\"http://twitter.com/download/iphone\" r...   \n",
       "4  <a href=\"http://twitter.com/download/iphone\" r...   \n",
       "\n",
       "                                                text  retweeted_status_id  \\\n",
       "0  This is Tilly. She's just checking pup on you....                  NaN   \n",
       "1  This is Archie. He is a rare Norwegian Pouncin...                  NaN   \n",
       "2  This is Franklin. He would like you to stop ca...                  NaN   \n",
       "3  Here we have a majestic great white breaching ...                  NaN   \n",
       "4  Meet Jax. He enjoys ice cream so much he gets ...                  NaN   \n",
       "\n",
       "   retweeted_status_user_id retweeted_status_timestamp  \\\n",
       "0                       NaN                        NaT   \n",
       "1                       NaN                        NaT   \n",
       "2                       NaN                        NaT   \n",
       "3                       NaN                        NaT   \n",
       "4                       NaN                        NaT   \n",
       "\n",
       "                                       expanded_urls  ...      name  doggo  \\\n",
       "0  https://twitter.com/dog_rates/status/892177421...  ...     Tilly    NaN   \n",
       "1  https://twitter.com/dog_rates/status/891815181...  ...    Archie    NaN   \n",
       "2  https://twitter.com/dog_rates/status/891327558...  ...  Franklin    NaN   \n",
       "3  https://twitter.com/dog_rates/status/891087950...  ...       NaN    NaN   \n",
       "4  https://gofundme.com/ydvmve-surgery-for-jax,ht...  ...       Jax    NaN   \n",
       "\n",
       "  floofer pupper puppo stage retweet_count favorite_count  \\\n",
       "0     NaN    NaN   NaN   NaN        6514.0        33819.0   \n",
       "1     NaN    NaN   NaN   NaN        4328.0        25461.0   \n",
       "2     NaN    NaN   NaN   NaN        9774.0        41048.0   \n",
       "3     NaN    NaN   NaN   NaN        3261.0        20562.0   \n",
       "4     NaN    NaN   NaN   NaN        2158.0        12041.0   \n",
       "\n",
       "                                           jpg_url                     breed  \n",
       "0  https://pbs.twimg.com/media/DGGmoV4XsAAUL6n.jpg                 Chihuahua  \n",
       "1  https://pbs.twimg.com/media/DGBdLU1WsAANxJ9.jpg                 Chihuahua  \n",
       "2  https://pbs.twimg.com/media/DF6hr6BUMAAzZgT.jpg                    basset  \n",
       "3  https://pbs.twimg.com/media/DF3HwyEWsAABqE6.jpg  Chesapeake_Bay_retriever  \n",
       "4  https://pbs.twimg.com/media/DF1eOmZXUAALUcq.jpg               Appenzeller  \n",
       "\n",
       "[5 rows x 22 columns]"
      ]
     },
     "execution_count": 74,
     "metadata": {},
     "output_type": "execute_result"
    }
   ],
   "source": [
    "df_enhanced.head()"
   ]
  },
  {
   "cell_type": "code",
   "execution_count": 75,
   "metadata": {},
   "outputs": [
    {
     "name": "stdout",
     "output_type": "stream",
     "text": [
      "<class 'pandas.core.frame.DataFrame'>\n",
      "Int64Index: 1556 entries, 0 to 2073\n",
      "Data columns (total 11 columns):\n",
      "tweet_id    1556 non-null int64\n",
      "img_num     1556 non-null int64\n",
      "p1          1556 non-null object\n",
      "p1_conf     1556 non-null float64\n",
      "p1_dog      1556 non-null bool\n",
      "p2          1556 non-null object\n",
      "p2_conf     1556 non-null float64\n",
      "p2_dog      1556 non-null bool\n",
      "p3          1556 non-null object\n",
      "p3_conf     1556 non-null float64\n",
      "p3_dog      1556 non-null bool\n",
      "dtypes: bool(3), float64(3), int64(2), object(3)\n",
      "memory usage: 154.0+ KB\n"
     ]
    }
   ],
   "source": [
    "img_pred.info()"
   ]
  },
  {
   "cell_type": "markdown",
   "metadata": {},
   "source": [
    "## saving cleaned data \n",
    "- save cleaned data to csv file called twitter_archive_master"
   ]
  },
  {
   "cell_type": "code",
   "execution_count": 76,
   "metadata": {},
   "outputs": [
    {
     "name": "stdout",
     "output_type": "stream",
     "text": [
      "<class 'pandas.core.frame.DataFrame'>\n",
      "Int64Index: 1556 entries, 0 to 1555\n",
      "Data columns (total 22 columns):\n",
      "tweet_id                      1556 non-null int64\n",
      "in_reply_to_status_id         14 non-null float64\n",
      "in_reply_to_user_id           14 non-null float64\n",
      "timestamp                     1556 non-null datetime64[ns, UTC]\n",
      "source                        1556 non-null object\n",
      "text                          1556 non-null object\n",
      "retweeted_status_id           57 non-null float64\n",
      "retweeted_status_user_id      57 non-null float64\n",
      "retweeted_status_timestamp    57 non-null datetime64[ns, UTC]\n",
      "expanded_urls                 1556 non-null object\n",
      "rating_numerator              1556 non-null int64\n",
      "rating_denominator            1556 non-null int64\n",
      "name                          952 non-null object\n",
      "doggo                         62 non-null object\n",
      "floofer                       8 non-null object\n",
      "pupper                        160 non-null object\n",
      "puppo                         19 non-null object\n",
      "stage                         238 non-null object\n",
      "retweet_count                 1555 non-null float64\n",
      "favorite_count                1555 non-null float64\n",
      "jpg_url                       1556 non-null object\n",
      "breed                         1532 non-null object\n",
      "dtypes: datetime64[ns, UTC](2), float64(6), int64(3), object(11)\n",
      "memory usage: 279.6+ KB\n"
     ]
    }
   ],
   "source": [
    "cleaned = df_enhanced\n",
    "cleaned.info()"
   ]
  },
  {
   "cell_type": "code",
   "execution_count": 77,
   "metadata": {},
   "outputs": [],
   "source": [
    "#save cleaned data to : twitter_archive_master.csv\n",
    "cleaned.to_csv('twitter_archive_master.csv')"
   ]
  },
  {
   "cell_type": "markdown",
   "metadata": {},
   "source": [
    "## Data analysis"
   ]
  },
  {
   "cell_type": "code",
   "execution_count": 78,
   "metadata": {},
   "outputs": [
    {
     "data": {
      "text/html": [
       "<div>\n",
       "<style scoped>\n",
       "    .dataframe tbody tr th:only-of-type {\n",
       "        vertical-align: middle;\n",
       "    }\n",
       "\n",
       "    .dataframe tbody tr th {\n",
       "        vertical-align: top;\n",
       "    }\n",
       "\n",
       "    .dataframe thead th {\n",
       "        text-align: right;\n",
       "    }\n",
       "</style>\n",
       "<table border=\"1\" class=\"dataframe\">\n",
       "  <thead>\n",
       "    <tr style=\"text-align: right;\">\n",
       "      <th></th>\n",
       "      <th>tweet_id</th>\n",
       "      <th>in_reply_to_status_id</th>\n",
       "      <th>in_reply_to_user_id</th>\n",
       "      <th>retweeted_status_id</th>\n",
       "      <th>retweeted_status_user_id</th>\n",
       "      <th>rating_numerator</th>\n",
       "      <th>rating_denominator</th>\n",
       "      <th>retweet_count</th>\n",
       "      <th>favorite_count</th>\n",
       "    </tr>\n",
       "  </thead>\n",
       "  <tbody>\n",
       "    <tr>\n",
       "      <td>count</td>\n",
       "      <td>1.556000e+03</td>\n",
       "      <td>1.400000e+01</td>\n",
       "      <td>1.400000e+01</td>\n",
       "      <td>5.700000e+01</td>\n",
       "      <td>5.700000e+01</td>\n",
       "      <td>1556.000000</td>\n",
       "      <td>1556.0</td>\n",
       "      <td>1555.000000</td>\n",
       "      <td>1555.000000</td>\n",
       "    </tr>\n",
       "    <tr>\n",
       "      <td>mean</td>\n",
       "      <td>7.425659e+17</td>\n",
       "      <td>6.950829e+17</td>\n",
       "      <td>4.196984e+09</td>\n",
       "      <td>7.634965e+17</td>\n",
       "      <td>1.381512e+16</td>\n",
       "      <td>12.222365</td>\n",
       "      <td>10.0</td>\n",
       "      <td>3009.084244</td>\n",
       "      <td>8916.656592</td>\n",
       "    </tr>\n",
       "    <tr>\n",
       "      <td>std</td>\n",
       "      <td>6.854457e+16</td>\n",
       "      <td>4.947686e+16</td>\n",
       "      <td>0.000000e+00</td>\n",
       "      <td>5.655626e+16</td>\n",
       "      <td>1.043019e+17</td>\n",
       "      <td>7.485594</td>\n",
       "      <td>0.0</td>\n",
       "      <td>5143.906460</td>\n",
       "      <td>12456.821539</td>\n",
       "    </tr>\n",
       "    <tr>\n",
       "      <td>min</td>\n",
       "      <td>6.660209e+17</td>\n",
       "      <td>6.671522e+17</td>\n",
       "      <td>4.196984e+09</td>\n",
       "      <td>6.675094e+17</td>\n",
       "      <td>5.128045e+08</td>\n",
       "      <td>11.000000</td>\n",
       "      <td>10.0</td>\n",
       "      <td>16.000000</td>\n",
       "      <td>0.000000</td>\n",
       "    </tr>\n",
       "    <tr>\n",
       "      <td>25%</td>\n",
       "      <td>6.787273e+17</td>\n",
       "      <td>6.724958e+17</td>\n",
       "      <td>4.196984e+09</td>\n",
       "      <td>7.258423e+17</td>\n",
       "      <td>4.196984e+09</td>\n",
       "      <td>11.000000</td>\n",
       "      <td>10.0</td>\n",
       "      <td>668.000000</td>\n",
       "      <td>1869.500000</td>\n",
       "    </tr>\n",
       "    <tr>\n",
       "      <td>50%</td>\n",
       "      <td>7.191522e+17</td>\n",
       "      <td>6.755284e+17</td>\n",
       "      <td>4.196984e+09</td>\n",
       "      <td>7.776842e+17</td>\n",
       "      <td>4.196984e+09</td>\n",
       "      <td>11.000000</td>\n",
       "      <td>10.0</td>\n",
       "      <td>1505.000000</td>\n",
       "      <td>4181.000000</td>\n",
       "    </tr>\n",
       "    <tr>\n",
       "      <td>75%</td>\n",
       "      <td>7.986727e+17</td>\n",
       "      <td>6.901517e+17</td>\n",
       "      <td>4.196984e+09</td>\n",
       "      <td>7.961497e+17</td>\n",
       "      <td>4.196984e+09</td>\n",
       "      <td>12.000000</td>\n",
       "      <td>10.0</td>\n",
       "      <td>3505.500000</td>\n",
       "      <td>11306.000000</td>\n",
       "    </tr>\n",
       "    <tr>\n",
       "      <td>max</td>\n",
       "      <td>8.921774e+17</td>\n",
       "      <td>8.558181e+17</td>\n",
       "      <td>4.196984e+09</td>\n",
       "      <td>8.874740e+17</td>\n",
       "      <td>7.874618e+17</td>\n",
       "      <td>165.000000</td>\n",
       "      <td>10.0</td>\n",
       "      <td>79515.000000</td>\n",
       "      <td>132810.000000</td>\n",
       "    </tr>\n",
       "  </tbody>\n",
       "</table>\n",
       "</div>"
      ],
      "text/plain": [
       "           tweet_id  in_reply_to_status_id  in_reply_to_user_id  \\\n",
       "count  1.556000e+03           1.400000e+01         1.400000e+01   \n",
       "mean   7.425659e+17           6.950829e+17         4.196984e+09   \n",
       "std    6.854457e+16           4.947686e+16         0.000000e+00   \n",
       "min    6.660209e+17           6.671522e+17         4.196984e+09   \n",
       "25%    6.787273e+17           6.724958e+17         4.196984e+09   \n",
       "50%    7.191522e+17           6.755284e+17         4.196984e+09   \n",
       "75%    7.986727e+17           6.901517e+17         4.196984e+09   \n",
       "max    8.921774e+17           8.558181e+17         4.196984e+09   \n",
       "\n",
       "       retweeted_status_id  retweeted_status_user_id  rating_numerator  \\\n",
       "count         5.700000e+01              5.700000e+01       1556.000000   \n",
       "mean          7.634965e+17              1.381512e+16         12.222365   \n",
       "std           5.655626e+16              1.043019e+17          7.485594   \n",
       "min           6.675094e+17              5.128045e+08         11.000000   \n",
       "25%           7.258423e+17              4.196984e+09         11.000000   \n",
       "50%           7.776842e+17              4.196984e+09         11.000000   \n",
       "75%           7.961497e+17              4.196984e+09         12.000000   \n",
       "max           8.874740e+17              7.874618e+17        165.000000   \n",
       "\n",
       "       rating_denominator  retweet_count  favorite_count  \n",
       "count              1556.0    1555.000000     1555.000000  \n",
       "mean                 10.0    3009.084244     8916.656592  \n",
       "std                   0.0    5143.906460    12456.821539  \n",
       "min                  10.0      16.000000        0.000000  \n",
       "25%                  10.0     668.000000     1869.500000  \n",
       "50%                  10.0    1505.000000     4181.000000  \n",
       "75%                  10.0    3505.500000    11306.000000  \n",
       "max                  10.0   79515.000000   132810.000000  "
      ]
     },
     "execution_count": 78,
     "metadata": {},
     "output_type": "execute_result"
    }
   ],
   "source": [
    "cleaned.describe()"
   ]
  },
  {
   "cell_type": "code",
   "execution_count": 79,
   "metadata": {},
   "outputs": [
    {
     "data": {
      "text/html": [
       "<div>\n",
       "<style scoped>\n",
       "    .dataframe tbody tr th:only-of-type {\n",
       "        vertical-align: middle;\n",
       "    }\n",
       "\n",
       "    .dataframe tbody tr th {\n",
       "        vertical-align: top;\n",
       "    }\n",
       "\n",
       "    .dataframe thead th {\n",
       "        text-align: right;\n",
       "    }\n",
       "</style>\n",
       "<table border=\"1\" class=\"dataframe\">\n",
       "  <thead>\n",
       "    <tr style=\"text-align: right;\">\n",
       "      <th></th>\n",
       "      <th>tweet_id</th>\n",
       "      <th>in_reply_to_status_id</th>\n",
       "      <th>in_reply_to_user_id</th>\n",
       "      <th>timestamp</th>\n",
       "      <th>source</th>\n",
       "      <th>text</th>\n",
       "      <th>retweeted_status_id</th>\n",
       "      <th>retweeted_status_user_id</th>\n",
       "      <th>retweeted_status_timestamp</th>\n",
       "      <th>expanded_urls</th>\n",
       "      <th>...</th>\n",
       "      <th>name</th>\n",
       "      <th>doggo</th>\n",
       "      <th>floofer</th>\n",
       "      <th>pupper</th>\n",
       "      <th>puppo</th>\n",
       "      <th>stage</th>\n",
       "      <th>retweet_count</th>\n",
       "      <th>favorite_count</th>\n",
       "      <th>jpg_url</th>\n",
       "      <th>breed</th>\n",
       "    </tr>\n",
       "  </thead>\n",
       "  <tbody>\n",
       "    <tr>\n",
       "      <td>0</td>\n",
       "      <td>892177421306343426</td>\n",
       "      <td>NaN</td>\n",
       "      <td>NaN</td>\n",
       "      <td>2017-08-01 00:17:27+00:00</td>\n",
       "      <td>&lt;a href=\"http://twitter.com/download/iphone\" r...</td>\n",
       "      <td>This is Tilly. She's just checking pup on you....</td>\n",
       "      <td>NaN</td>\n",
       "      <td>NaN</td>\n",
       "      <td>NaT</td>\n",
       "      <td>https://twitter.com/dog_rates/status/892177421...</td>\n",
       "      <td>...</td>\n",
       "      <td>Tilly</td>\n",
       "      <td>NaN</td>\n",
       "      <td>NaN</td>\n",
       "      <td>NaN</td>\n",
       "      <td>NaN</td>\n",
       "      <td>NaN</td>\n",
       "      <td>6514.0</td>\n",
       "      <td>33819.0</td>\n",
       "      <td>https://pbs.twimg.com/media/DGGmoV4XsAAUL6n.jpg</td>\n",
       "      <td>Chihuahua</td>\n",
       "    </tr>\n",
       "    <tr>\n",
       "      <td>1</td>\n",
       "      <td>891815181378084864</td>\n",
       "      <td>NaN</td>\n",
       "      <td>NaN</td>\n",
       "      <td>2017-07-31 00:18:03+00:00</td>\n",
       "      <td>&lt;a href=\"http://twitter.com/download/iphone\" r...</td>\n",
       "      <td>This is Archie. He is a rare Norwegian Pouncin...</td>\n",
       "      <td>NaN</td>\n",
       "      <td>NaN</td>\n",
       "      <td>NaT</td>\n",
       "      <td>https://twitter.com/dog_rates/status/891815181...</td>\n",
       "      <td>...</td>\n",
       "      <td>Archie</td>\n",
       "      <td>NaN</td>\n",
       "      <td>NaN</td>\n",
       "      <td>NaN</td>\n",
       "      <td>NaN</td>\n",
       "      <td>NaN</td>\n",
       "      <td>4328.0</td>\n",
       "      <td>25461.0</td>\n",
       "      <td>https://pbs.twimg.com/media/DGBdLU1WsAANxJ9.jpg</td>\n",
       "      <td>Chihuahua</td>\n",
       "    </tr>\n",
       "    <tr>\n",
       "      <td>2</td>\n",
       "      <td>891327558926688256</td>\n",
       "      <td>NaN</td>\n",
       "      <td>NaN</td>\n",
       "      <td>2017-07-29 16:00:24+00:00</td>\n",
       "      <td>&lt;a href=\"http://twitter.com/download/iphone\" r...</td>\n",
       "      <td>This is Franklin. He would like you to stop ca...</td>\n",
       "      <td>NaN</td>\n",
       "      <td>NaN</td>\n",
       "      <td>NaT</td>\n",
       "      <td>https://twitter.com/dog_rates/status/891327558...</td>\n",
       "      <td>...</td>\n",
       "      <td>Franklin</td>\n",
       "      <td>NaN</td>\n",
       "      <td>NaN</td>\n",
       "      <td>NaN</td>\n",
       "      <td>NaN</td>\n",
       "      <td>NaN</td>\n",
       "      <td>9774.0</td>\n",
       "      <td>41048.0</td>\n",
       "      <td>https://pbs.twimg.com/media/DF6hr6BUMAAzZgT.jpg</td>\n",
       "      <td>basset</td>\n",
       "    </tr>\n",
       "    <tr>\n",
       "      <td>3</td>\n",
       "      <td>891087950875897856</td>\n",
       "      <td>NaN</td>\n",
       "      <td>NaN</td>\n",
       "      <td>2017-07-29 00:08:17+00:00</td>\n",
       "      <td>&lt;a href=\"http://twitter.com/download/iphone\" r...</td>\n",
       "      <td>Here we have a majestic great white breaching ...</td>\n",
       "      <td>NaN</td>\n",
       "      <td>NaN</td>\n",
       "      <td>NaT</td>\n",
       "      <td>https://twitter.com/dog_rates/status/891087950...</td>\n",
       "      <td>...</td>\n",
       "      <td>NaN</td>\n",
       "      <td>NaN</td>\n",
       "      <td>NaN</td>\n",
       "      <td>NaN</td>\n",
       "      <td>NaN</td>\n",
       "      <td>NaN</td>\n",
       "      <td>3261.0</td>\n",
       "      <td>20562.0</td>\n",
       "      <td>https://pbs.twimg.com/media/DF3HwyEWsAABqE6.jpg</td>\n",
       "      <td>Chesapeake_Bay_retriever</td>\n",
       "    </tr>\n",
       "    <tr>\n",
       "      <td>4</td>\n",
       "      <td>890971913173991426</td>\n",
       "      <td>NaN</td>\n",
       "      <td>NaN</td>\n",
       "      <td>2017-07-28 16:27:12+00:00</td>\n",
       "      <td>&lt;a href=\"http://twitter.com/download/iphone\" r...</td>\n",
       "      <td>Meet Jax. He enjoys ice cream so much he gets ...</td>\n",
       "      <td>NaN</td>\n",
       "      <td>NaN</td>\n",
       "      <td>NaT</td>\n",
       "      <td>https://gofundme.com/ydvmve-surgery-for-jax,ht...</td>\n",
       "      <td>...</td>\n",
       "      <td>Jax</td>\n",
       "      <td>NaN</td>\n",
       "      <td>NaN</td>\n",
       "      <td>NaN</td>\n",
       "      <td>NaN</td>\n",
       "      <td>NaN</td>\n",
       "      <td>2158.0</td>\n",
       "      <td>12041.0</td>\n",
       "      <td>https://pbs.twimg.com/media/DF1eOmZXUAALUcq.jpg</td>\n",
       "      <td>Appenzeller</td>\n",
       "    </tr>\n",
       "  </tbody>\n",
       "</table>\n",
       "<p>5 rows × 22 columns</p>\n",
       "</div>"
      ],
      "text/plain": [
       "             tweet_id  in_reply_to_status_id  in_reply_to_user_id  \\\n",
       "0  892177421306343426                    NaN                  NaN   \n",
       "1  891815181378084864                    NaN                  NaN   \n",
       "2  891327558926688256                    NaN                  NaN   \n",
       "3  891087950875897856                    NaN                  NaN   \n",
       "4  890971913173991426                    NaN                  NaN   \n",
       "\n",
       "                  timestamp  \\\n",
       "0 2017-08-01 00:17:27+00:00   \n",
       "1 2017-07-31 00:18:03+00:00   \n",
       "2 2017-07-29 16:00:24+00:00   \n",
       "3 2017-07-29 00:08:17+00:00   \n",
       "4 2017-07-28 16:27:12+00:00   \n",
       "\n",
       "                                              source  \\\n",
       "0  <a href=\"http://twitter.com/download/iphone\" r...   \n",
       "1  <a href=\"http://twitter.com/download/iphone\" r...   \n",
       "2  <a href=\"http://twitter.com/download/iphone\" r...   \n",
       "3  <a href=\"http://twitter.com/download/iphone\" r...   \n",
       "4  <a href=\"http://twitter.com/download/iphone\" r...   \n",
       "\n",
       "                                                text  retweeted_status_id  \\\n",
       "0  This is Tilly. She's just checking pup on you....                  NaN   \n",
       "1  This is Archie. He is a rare Norwegian Pouncin...                  NaN   \n",
       "2  This is Franklin. He would like you to stop ca...                  NaN   \n",
       "3  Here we have a majestic great white breaching ...                  NaN   \n",
       "4  Meet Jax. He enjoys ice cream so much he gets ...                  NaN   \n",
       "\n",
       "   retweeted_status_user_id retweeted_status_timestamp  \\\n",
       "0                       NaN                        NaT   \n",
       "1                       NaN                        NaT   \n",
       "2                       NaN                        NaT   \n",
       "3                       NaN                        NaT   \n",
       "4                       NaN                        NaT   \n",
       "\n",
       "                                       expanded_urls  ...      name  doggo  \\\n",
       "0  https://twitter.com/dog_rates/status/892177421...  ...     Tilly    NaN   \n",
       "1  https://twitter.com/dog_rates/status/891815181...  ...    Archie    NaN   \n",
       "2  https://twitter.com/dog_rates/status/891327558...  ...  Franklin    NaN   \n",
       "3  https://twitter.com/dog_rates/status/891087950...  ...       NaN    NaN   \n",
       "4  https://gofundme.com/ydvmve-surgery-for-jax,ht...  ...       Jax    NaN   \n",
       "\n",
       "  floofer pupper puppo stage retweet_count favorite_count  \\\n",
       "0     NaN    NaN   NaN   NaN        6514.0        33819.0   \n",
       "1     NaN    NaN   NaN   NaN        4328.0        25461.0   \n",
       "2     NaN    NaN   NaN   NaN        9774.0        41048.0   \n",
       "3     NaN    NaN   NaN   NaN        3261.0        20562.0   \n",
       "4     NaN    NaN   NaN   NaN        2158.0        12041.0   \n",
       "\n",
       "                                           jpg_url                     breed  \n",
       "0  https://pbs.twimg.com/media/DGGmoV4XsAAUL6n.jpg                 Chihuahua  \n",
       "1  https://pbs.twimg.com/media/DGBdLU1WsAANxJ9.jpg                 Chihuahua  \n",
       "2  https://pbs.twimg.com/media/DF6hr6BUMAAzZgT.jpg                    basset  \n",
       "3  https://pbs.twimg.com/media/DF3HwyEWsAABqE6.jpg  Chesapeake_Bay_retriever  \n",
       "4  https://pbs.twimg.com/media/DF1eOmZXUAALUcq.jpg               Appenzeller  \n",
       "\n",
       "[5 rows x 22 columns]"
      ]
     },
     "execution_count": 79,
     "metadata": {},
     "output_type": "execute_result"
    }
   ],
   "source": [
    "cleaned.head()"
   ]
  },
  {
   "cell_type": "code",
   "execution_count": 81,
   "metadata": {},
   "outputs": [
    {
     "data": {
      "text/html": [
       "<div>\n",
       "<style scoped>\n",
       "    .dataframe tbody tr th:only-of-type {\n",
       "        vertical-align: middle;\n",
       "    }\n",
       "\n",
       "    .dataframe tbody tr th {\n",
       "        vertical-align: top;\n",
       "    }\n",
       "\n",
       "    .dataframe thead tr th {\n",
       "        text-align: left;\n",
       "    }\n",
       "\n",
       "    .dataframe thead tr:last-of-type th {\n",
       "        text-align: right;\n",
       "    }\n",
       "</style>\n",
       "<table border=\"1\" class=\"dataframe\">\n",
       "  <thead>\n",
       "    <tr>\n",
       "      <th></th>\n",
       "      <th colspan=\"7\" halign=\"left\">rating_numerator</th>\n",
       "      <th colspan=\"7\" halign=\"left\">retweet_count</th>\n",
       "      <th colspan=\"7\" halign=\"left\">favorite_count</th>\n",
       "    </tr>\n",
       "    <tr>\n",
       "      <th></th>\n",
       "      <th>count</th>\n",
       "      <th>min</th>\n",
       "      <th>max</th>\n",
       "      <th>sum</th>\n",
       "      <th>mean</th>\n",
       "      <th>median</th>\n",
       "      <th>std</th>\n",
       "      <th>count</th>\n",
       "      <th>min</th>\n",
       "      <th>max</th>\n",
       "      <th>...</th>\n",
       "      <th>mean</th>\n",
       "      <th>median</th>\n",
       "      <th>std</th>\n",
       "      <th>count</th>\n",
       "      <th>min</th>\n",
       "      <th>max</th>\n",
       "      <th>sum</th>\n",
       "      <th>mean</th>\n",
       "      <th>median</th>\n",
       "      <th>std</th>\n",
       "    </tr>\n",
       "    <tr>\n",
       "      <th>stage</th>\n",
       "      <th></th>\n",
       "      <th></th>\n",
       "      <th></th>\n",
       "      <th></th>\n",
       "      <th></th>\n",
       "      <th></th>\n",
       "      <th></th>\n",
       "      <th></th>\n",
       "      <th></th>\n",
       "      <th></th>\n",
       "      <th></th>\n",
       "      <th></th>\n",
       "      <th></th>\n",
       "      <th></th>\n",
       "      <th></th>\n",
       "      <th></th>\n",
       "      <th></th>\n",
       "      <th></th>\n",
       "      <th></th>\n",
       "      <th></th>\n",
       "      <th></th>\n",
       "    </tr>\n",
       "  </thead>\n",
       "  <tbody>\n",
       "    <tr>\n",
       "      <td>doggo</td>\n",
       "      <td>62</td>\n",
       "      <td>11</td>\n",
       "      <td>14</td>\n",
       "      <td>755</td>\n",
       "      <td>12.177419</td>\n",
       "      <td>12</td>\n",
       "      <td>0.983873</td>\n",
       "      <td>62</td>\n",
       "      <td>725.0</td>\n",
       "      <td>79515.0</td>\n",
       "      <td>...</td>\n",
       "      <td>8034.193548</td>\n",
       "      <td>3380.0</td>\n",
       "      <td>13747.858311</td>\n",
       "      <td>62</td>\n",
       "      <td>0.0</td>\n",
       "      <td>131075.0</td>\n",
       "      <td>1143880.0</td>\n",
       "      <td>18449.677419</td>\n",
       "      <td>10493.5</td>\n",
       "      <td>23061.938847</td>\n",
       "    </tr>\n",
       "    <tr>\n",
       "      <td>floofer</td>\n",
       "      <td>7</td>\n",
       "      <td>11</td>\n",
       "      <td>13</td>\n",
       "      <td>85</td>\n",
       "      <td>12.142857</td>\n",
       "      <td>12</td>\n",
       "      <td>0.899735</td>\n",
       "      <td>7</td>\n",
       "      <td>496.0</td>\n",
       "      <td>18497.0</td>\n",
       "      <td>...</td>\n",
       "      <td>4968.714286</td>\n",
       "      <td>3265.0</td>\n",
       "      <td>6163.579715</td>\n",
       "      <td>7</td>\n",
       "      <td>2262.0</td>\n",
       "      <td>33345.0</td>\n",
       "      <td>92442.0</td>\n",
       "      <td>13206.000000</td>\n",
       "      <td>11302.0</td>\n",
       "      <td>11258.315105</td>\n",
       "    </tr>\n",
       "    <tr>\n",
       "      <td>pupper</td>\n",
       "      <td>151</td>\n",
       "      <td>11</td>\n",
       "      <td>27</td>\n",
       "      <td>1757</td>\n",
       "      <td>11.635762</td>\n",
       "      <td>11</td>\n",
       "      <td>1.485411</td>\n",
       "      <td>151</td>\n",
       "      <td>83.0</td>\n",
       "      <td>32883.0</td>\n",
       "      <td>...</td>\n",
       "      <td>2694.417219</td>\n",
       "      <td>1219.0</td>\n",
       "      <td>4042.768413</td>\n",
       "      <td>151</td>\n",
       "      <td>0.0</td>\n",
       "      <td>106827.0</td>\n",
       "      <td>1178243.0</td>\n",
       "      <td>7802.933775</td>\n",
       "      <td>3345.0</td>\n",
       "      <td>11908.530181</td>\n",
       "    </tr>\n",
       "    <tr>\n",
       "      <td>puppo</td>\n",
       "      <td>18</td>\n",
       "      <td>11</td>\n",
       "      <td>14</td>\n",
       "      <td>220</td>\n",
       "      <td>12.222222</td>\n",
       "      <td>12</td>\n",
       "      <td>0.942809</td>\n",
       "      <td>18</td>\n",
       "      <td>716.0</td>\n",
       "      <td>48265.0</td>\n",
       "      <td>...</td>\n",
       "      <td>6675.500000</td>\n",
       "      <td>2509.0</td>\n",
       "      <td>11405.886861</td>\n",
       "      <td>18</td>\n",
       "      <td>3277.0</td>\n",
       "      <td>132810.0</td>\n",
       "      <td>404093.0</td>\n",
       "      <td>22449.611111</td>\n",
       "      <td>11309.5</td>\n",
       "      <td>30956.915778</td>\n",
       "    </tr>\n",
       "  </tbody>\n",
       "</table>\n",
       "<p>4 rows × 21 columns</p>\n",
       "</div>"
      ],
      "text/plain": [
       "        rating_numerator                                            \\\n",
       "                   count min max   sum       mean median       std   \n",
       "stage                                                                \n",
       "doggo                 62  11  14   755  12.177419     12  0.983873   \n",
       "floofer                7  11  13    85  12.142857     12  0.899735   \n",
       "pupper               151  11  27  1757  11.635762     11  1.485411   \n",
       "puppo                 18  11  14   220  12.222222     12  0.942809   \n",
       "\n",
       "        retweet_count                  ...                                     \\\n",
       "                count    min      max  ...         mean  median           std   \n",
       "stage                                  ...                                      \n",
       "doggo              62  725.0  79515.0  ...  8034.193548  3380.0  13747.858311   \n",
       "floofer             7  496.0  18497.0  ...  4968.714286  3265.0   6163.579715   \n",
       "pupper            151   83.0  32883.0  ...  2694.417219  1219.0   4042.768413   \n",
       "puppo              18  716.0  48265.0  ...  6675.500000  2509.0  11405.886861   \n",
       "\n",
       "        favorite_count                                                      \\\n",
       "                 count     min       max        sum          mean   median   \n",
       "stage                                                                        \n",
       "doggo               62     0.0  131075.0  1143880.0  18449.677419  10493.5   \n",
       "floofer              7  2262.0   33345.0    92442.0  13206.000000  11302.0   \n",
       "pupper             151     0.0  106827.0  1178243.0   7802.933775   3345.0   \n",
       "puppo               18  3277.0  132810.0   404093.0  22449.611111  11309.5   \n",
       "\n",
       "                       \n",
       "                  std  \n",
       "stage                  \n",
       "doggo    23061.938847  \n",
       "floofer  11258.315105  \n",
       "pupper   11908.530181  \n",
       "puppo    30956.915778  \n",
       "\n",
       "[4 rows x 21 columns]"
      ]
     },
     "execution_count": 81,
     "metadata": {},
     "output_type": "execute_result"
    }
   ],
   "source": [
    "cleaned.groupby([\"stage\"])['rating_numerator','retweet_count','favorite_count'].agg(['count','min','max','sum','mean','median','std'])"
   ]
  },
  {
   "cell_type": "code",
   "execution_count": 82,
   "metadata": {},
   "outputs": [
    {
     "data": {
      "text/plain": [
       "rating_numerator     11.0\n",
       "retweet_count       265.0\n",
       "favorite_count      769.0\n",
       "dtype: float64"
      ]
     },
     "execution_count": 82,
     "metadata": {},
     "output_type": "execute_result"
    }
   ],
   "source": [
    "cleaned.groupby([\"stage\",\"breed\"])['rating_numerator','retweet_count','favorite_count'].mean().min()"
   ]
  },
  {
   "cell_type": "code",
   "execution_count": 83,
   "metadata": {},
   "outputs": [
    {
     "data": {
      "text/plain": [
       "rating_numerator        27.0\n",
       "retweet_count        52360.0\n",
       "favorite_count      132810.0\n",
       "dtype: float64"
      ]
     },
     "execution_count": 83,
     "metadata": {},
     "output_type": "execute_result"
    }
   ],
   "source": [
    "cleaned.groupby([\"stage\",\"breed\"])['rating_numerator','retweet_count','favorite_count'].mean().max()"
   ]
  },
  {
   "cell_type": "code",
   "execution_count": 84,
   "metadata": {},
   "outputs": [
    {
     "data": {
      "text/html": [
       "<div>\n",
       "<style scoped>\n",
       "    .dataframe tbody tr th:only-of-type {\n",
       "        vertical-align: middle;\n",
       "    }\n",
       "\n",
       "    .dataframe tbody tr th {\n",
       "        vertical-align: top;\n",
       "    }\n",
       "\n",
       "    .dataframe thead tr th {\n",
       "        text-align: left;\n",
       "    }\n",
       "\n",
       "    .dataframe thead tr:last-of-type th {\n",
       "        text-align: right;\n",
       "    }\n",
       "</style>\n",
       "<table border=\"1\" class=\"dataframe\">\n",
       "  <thead>\n",
       "    <tr>\n",
       "      <th></th>\n",
       "      <th></th>\n",
       "      <th colspan=\"7\" halign=\"left\">rating_numerator</th>\n",
       "      <th colspan=\"7\" halign=\"left\">retweet_count</th>\n",
       "      <th colspan=\"7\" halign=\"left\">favorite_count</th>\n",
       "    </tr>\n",
       "    <tr>\n",
       "      <th></th>\n",
       "      <th></th>\n",
       "      <th>count</th>\n",
       "      <th>min</th>\n",
       "      <th>max</th>\n",
       "      <th>sum</th>\n",
       "      <th>mean</th>\n",
       "      <th>median</th>\n",
       "      <th>std</th>\n",
       "      <th>count</th>\n",
       "      <th>min</th>\n",
       "      <th>max</th>\n",
       "      <th>...</th>\n",
       "      <th>mean</th>\n",
       "      <th>median</th>\n",
       "      <th>std</th>\n",
       "      <th>count</th>\n",
       "      <th>min</th>\n",
       "      <th>max</th>\n",
       "      <th>sum</th>\n",
       "      <th>mean</th>\n",
       "      <th>median</th>\n",
       "      <th>std</th>\n",
       "    </tr>\n",
       "    <tr>\n",
       "      <th>stage</th>\n",
       "      <th>breed</th>\n",
       "      <th></th>\n",
       "      <th></th>\n",
       "      <th></th>\n",
       "      <th></th>\n",
       "      <th></th>\n",
       "      <th></th>\n",
       "      <th></th>\n",
       "      <th></th>\n",
       "      <th></th>\n",
       "      <th></th>\n",
       "      <th></th>\n",
       "      <th></th>\n",
       "      <th></th>\n",
       "      <th></th>\n",
       "      <th></th>\n",
       "      <th></th>\n",
       "      <th></th>\n",
       "      <th></th>\n",
       "      <th></th>\n",
       "      <th></th>\n",
       "      <th></th>\n",
       "    </tr>\n",
       "  </thead>\n",
       "  <tbody>\n",
       "    <tr>\n",
       "      <td rowspan=\"5\" valign=\"top\">doggo</td>\n",
       "      <td>Bedlington_terrier</td>\n",
       "      <td>2</td>\n",
       "      <td>11</td>\n",
       "      <td>14</td>\n",
       "      <td>25</td>\n",
       "      <td>12.5</td>\n",
       "      <td>12.5</td>\n",
       "      <td>2.12132</td>\n",
       "      <td>2</td>\n",
       "      <td>1263.0</td>\n",
       "      <td>2554.0</td>\n",
       "      <td>...</td>\n",
       "      <td>1908.5</td>\n",
       "      <td>1908.5</td>\n",
       "      <td>912.874855</td>\n",
       "      <td>2</td>\n",
       "      <td>4238.0</td>\n",
       "      <td>13864.0</td>\n",
       "      <td>18102.0</td>\n",
       "      <td>9051.0</td>\n",
       "      <td>9051.0</td>\n",
       "      <td>6806.609876</td>\n",
       "    </tr>\n",
       "    <tr>\n",
       "      <td>Blenheim_spaniel</td>\n",
       "      <td>1</td>\n",
       "      <td>11</td>\n",
       "      <td>11</td>\n",
       "      <td>11</td>\n",
       "      <td>11.0</td>\n",
       "      <td>11.0</td>\n",
       "      <td>NaN</td>\n",
       "      <td>1</td>\n",
       "      <td>1104.0</td>\n",
       "      <td>1104.0</td>\n",
       "      <td>...</td>\n",
       "      <td>1104.0</td>\n",
       "      <td>1104.0</td>\n",
       "      <td>NaN</td>\n",
       "      <td>1</td>\n",
       "      <td>4228.0</td>\n",
       "      <td>4228.0</td>\n",
       "      <td>4228.0</td>\n",
       "      <td>4228.0</td>\n",
       "      <td>4228.0</td>\n",
       "      <td>NaN</td>\n",
       "    </tr>\n",
       "    <tr>\n",
       "      <td>Border_collie</td>\n",
       "      <td>1</td>\n",
       "      <td>13</td>\n",
       "      <td>13</td>\n",
       "      <td>13</td>\n",
       "      <td>13.0</td>\n",
       "      <td>13.0</td>\n",
       "      <td>NaN</td>\n",
       "      <td>1</td>\n",
       "      <td>2506.0</td>\n",
       "      <td>2506.0</td>\n",
       "      <td>...</td>\n",
       "      <td>2506.0</td>\n",
       "      <td>2506.0</td>\n",
       "      <td>NaN</td>\n",
       "      <td>1</td>\n",
       "      <td>9390.0</td>\n",
       "      <td>9390.0</td>\n",
       "      <td>9390.0</td>\n",
       "      <td>9390.0</td>\n",
       "      <td>9390.0</td>\n",
       "      <td>NaN</td>\n",
       "    </tr>\n",
       "    <tr>\n",
       "      <td>Chesapeake_Bay_retriever</td>\n",
       "      <td>1</td>\n",
       "      <td>13</td>\n",
       "      <td>13</td>\n",
       "      <td>13</td>\n",
       "      <td>13.0</td>\n",
       "      <td>13.0</td>\n",
       "      <td>NaN</td>\n",
       "      <td>1</td>\n",
       "      <td>4376.0</td>\n",
       "      <td>4376.0</td>\n",
       "      <td>...</td>\n",
       "      <td>4376.0</td>\n",
       "      <td>4376.0</td>\n",
       "      <td>NaN</td>\n",
       "      <td>1</td>\n",
       "      <td>12376.0</td>\n",
       "      <td>12376.0</td>\n",
       "      <td>12376.0</td>\n",
       "      <td>12376.0</td>\n",
       "      <td>12376.0</td>\n",
       "      <td>NaN</td>\n",
       "    </tr>\n",
       "    <tr>\n",
       "      <td>Chihuahua</td>\n",
       "      <td>1</td>\n",
       "      <td>12</td>\n",
       "      <td>12</td>\n",
       "      <td>12</td>\n",
       "      <td>12.0</td>\n",
       "      <td>12.0</td>\n",
       "      <td>NaN</td>\n",
       "      <td>1</td>\n",
       "      <td>3327.0</td>\n",
       "      <td>3327.0</td>\n",
       "      <td>...</td>\n",
       "      <td>3327.0</td>\n",
       "      <td>3327.0</td>\n",
       "      <td>NaN</td>\n",
       "      <td>1</td>\n",
       "      <td>16476.0</td>\n",
       "      <td>16476.0</td>\n",
       "      <td>16476.0</td>\n",
       "      <td>16476.0</td>\n",
       "      <td>16476.0</td>\n",
       "      <td>NaN</td>\n",
       "    </tr>\n",
       "    <tr>\n",
       "      <td>...</td>\n",
       "      <td>...</td>\n",
       "      <td>...</td>\n",
       "      <td>...</td>\n",
       "      <td>...</td>\n",
       "      <td>...</td>\n",
       "      <td>...</td>\n",
       "      <td>...</td>\n",
       "      <td>...</td>\n",
       "      <td>...</td>\n",
       "      <td>...</td>\n",
       "      <td>...</td>\n",
       "      <td>...</td>\n",
       "      <td>...</td>\n",
       "      <td>...</td>\n",
       "      <td>...</td>\n",
       "      <td>...</td>\n",
       "      <td>...</td>\n",
       "      <td>...</td>\n",
       "      <td>...</td>\n",
       "      <td>...</td>\n",
       "      <td>...</td>\n",
       "      <td>...</td>\n",
       "    </tr>\n",
       "    <tr>\n",
       "      <td rowspan=\"5\" valign=\"top\">puppo</td>\n",
       "      <td>Rottweiler</td>\n",
       "      <td>1</td>\n",
       "      <td>14</td>\n",
       "      <td>14</td>\n",
       "      <td>14</td>\n",
       "      <td>14.0</td>\n",
       "      <td>14.0</td>\n",
       "      <td>NaN</td>\n",
       "      <td>1</td>\n",
       "      <td>19669.0</td>\n",
       "      <td>19669.0</td>\n",
       "      <td>...</td>\n",
       "      <td>19669.0</td>\n",
       "      <td>19669.0</td>\n",
       "      <td>NaN</td>\n",
       "      <td>1</td>\n",
       "      <td>56413.0</td>\n",
       "      <td>56413.0</td>\n",
       "      <td>56413.0</td>\n",
       "      <td>56413.0</td>\n",
       "      <td>56413.0</td>\n",
       "      <td>NaN</td>\n",
       "    </tr>\n",
       "    <tr>\n",
       "      <td>chow</td>\n",
       "      <td>1</td>\n",
       "      <td>11</td>\n",
       "      <td>11</td>\n",
       "      <td>11</td>\n",
       "      <td>11.0</td>\n",
       "      <td>11.0</td>\n",
       "      <td>NaN</td>\n",
       "      <td>1</td>\n",
       "      <td>1759.0</td>\n",
       "      <td>1759.0</td>\n",
       "      <td>...</td>\n",
       "      <td>1759.0</td>\n",
       "      <td>1759.0</td>\n",
       "      <td>NaN</td>\n",
       "      <td>1</td>\n",
       "      <td>5575.0</td>\n",
       "      <td>5575.0</td>\n",
       "      <td>5575.0</td>\n",
       "      <td>5575.0</td>\n",
       "      <td>5575.0</td>\n",
       "      <td>NaN</td>\n",
       "    </tr>\n",
       "    <tr>\n",
       "      <td>golden_retriever</td>\n",
       "      <td>2</td>\n",
       "      <td>13</td>\n",
       "      <td>13</td>\n",
       "      <td>26</td>\n",
       "      <td>13.0</td>\n",
       "      <td>13.0</td>\n",
       "      <td>0.00000</td>\n",
       "      <td>2</td>\n",
       "      <td>1704.0</td>\n",
       "      <td>2321.0</td>\n",
       "      <td>...</td>\n",
       "      <td>2012.5</td>\n",
       "      <td>2012.5</td>\n",
       "      <td>436.284884</td>\n",
       "      <td>2</td>\n",
       "      <td>15359.0</td>\n",
       "      <td>19476.0</td>\n",
       "      <td>34835.0</td>\n",
       "      <td>17417.5</td>\n",
       "      <td>17417.5</td>\n",
       "      <td>2911.158618</td>\n",
       "    </tr>\n",
       "    <tr>\n",
       "      <td>malamute</td>\n",
       "      <td>1</td>\n",
       "      <td>11</td>\n",
       "      <td>11</td>\n",
       "      <td>11</td>\n",
       "      <td>11.0</td>\n",
       "      <td>11.0</td>\n",
       "      <td>NaN</td>\n",
       "      <td>1</td>\n",
       "      <td>1366.0</td>\n",
       "      <td>1366.0</td>\n",
       "      <td>...</td>\n",
       "      <td>1366.0</td>\n",
       "      <td>1366.0</td>\n",
       "      <td>NaN</td>\n",
       "      <td>1</td>\n",
       "      <td>4624.0</td>\n",
       "      <td>4624.0</td>\n",
       "      <td>4624.0</td>\n",
       "      <td>4624.0</td>\n",
       "      <td>4624.0</td>\n",
       "      <td>NaN</td>\n",
       "    </tr>\n",
       "    <tr>\n",
       "      <td>miniature_pinscher</td>\n",
       "      <td>1</td>\n",
       "      <td>12</td>\n",
       "      <td>12</td>\n",
       "      <td>12</td>\n",
       "      <td>12.0</td>\n",
       "      <td>12.0</td>\n",
       "      <td>NaN</td>\n",
       "      <td>1</td>\n",
       "      <td>3220.0</td>\n",
       "      <td>3220.0</td>\n",
       "      <td>...</td>\n",
       "      <td>3220.0</td>\n",
       "      <td>3220.0</td>\n",
       "      <td>NaN</td>\n",
       "      <td>1</td>\n",
       "      <td>11203.0</td>\n",
       "      <td>11203.0</td>\n",
       "      <td>11203.0</td>\n",
       "      <td>11203.0</td>\n",
       "      <td>11203.0</td>\n",
       "      <td>NaN</td>\n",
       "    </tr>\n",
       "  </tbody>\n",
       "</table>\n",
       "<p>115 rows × 21 columns</p>\n",
       "</div>"
      ],
      "text/plain": [
       "                               rating_numerator                           \\\n",
       "                                          count min max sum  mean median   \n",
       "stage breed                                                                \n",
       "doggo Bedlington_terrier                      2  11  14  25  12.5   12.5   \n",
       "      Blenheim_spaniel                        1  11  11  11  11.0   11.0   \n",
       "      Border_collie                           1  13  13  13  13.0   13.0   \n",
       "      Chesapeake_Bay_retriever                1  13  13  13  13.0   13.0   \n",
       "      Chihuahua                               1  12  12  12  12.0   12.0   \n",
       "...                                         ...  ..  ..  ..   ...    ...   \n",
       "puppo Rottweiler                              1  14  14  14  14.0   14.0   \n",
       "      chow                                    1  11  11  11  11.0   11.0   \n",
       "      golden_retriever                        2  13  13  26  13.0   13.0   \n",
       "      malamute                                1  11  11  11  11.0   11.0   \n",
       "      miniature_pinscher                      1  12  12  12  12.0   12.0   \n",
       "\n",
       "                                        retweet_count                    ...  \\\n",
       "                                    std         count      min      max  ...   \n",
       "stage breed                                                              ...   \n",
       "doggo Bedlington_terrier        2.12132             2   1263.0   2554.0  ...   \n",
       "      Blenheim_spaniel              NaN             1   1104.0   1104.0  ...   \n",
       "      Border_collie                 NaN             1   2506.0   2506.0  ...   \n",
       "      Chesapeake_Bay_retriever      NaN             1   4376.0   4376.0  ...   \n",
       "      Chihuahua                     NaN             1   3327.0   3327.0  ...   \n",
       "...                                 ...           ...      ...      ...  ...   \n",
       "puppo Rottweiler                    NaN             1  19669.0  19669.0  ...   \n",
       "      chow                          NaN             1   1759.0   1759.0  ...   \n",
       "      golden_retriever          0.00000             2   1704.0   2321.0  ...   \n",
       "      malamute                      NaN             1   1366.0   1366.0  ...   \n",
       "      miniature_pinscher            NaN             1   3220.0   3220.0  ...   \n",
       "\n",
       "                                                             favorite_count  \\\n",
       "                                   mean   median         std          count   \n",
       "stage breed                                                                   \n",
       "doggo Bedlington_terrier         1908.5   1908.5  912.874855              2   \n",
       "      Blenheim_spaniel           1104.0   1104.0         NaN              1   \n",
       "      Border_collie              2506.0   2506.0         NaN              1   \n",
       "      Chesapeake_Bay_retriever   4376.0   4376.0         NaN              1   \n",
       "      Chihuahua                  3327.0   3327.0         NaN              1   \n",
       "...                                 ...      ...         ...            ...   \n",
       "puppo Rottweiler                19669.0  19669.0         NaN              1   \n",
       "      chow                       1759.0   1759.0         NaN              1   \n",
       "      golden_retriever           2012.5   2012.5  436.284884              2   \n",
       "      malamute                   1366.0   1366.0         NaN              1   \n",
       "      miniature_pinscher         3220.0   3220.0         NaN              1   \n",
       "\n",
       "                                                                             \\\n",
       "                                    min      max      sum     mean   median   \n",
       "stage breed                                                                   \n",
       "doggo Bedlington_terrier         4238.0  13864.0  18102.0   9051.0   9051.0   \n",
       "      Blenheim_spaniel           4228.0   4228.0   4228.0   4228.0   4228.0   \n",
       "      Border_collie              9390.0   9390.0   9390.0   9390.0   9390.0   \n",
       "      Chesapeake_Bay_retriever  12376.0  12376.0  12376.0  12376.0  12376.0   \n",
       "      Chihuahua                 16476.0  16476.0  16476.0  16476.0  16476.0   \n",
       "...                                 ...      ...      ...      ...      ...   \n",
       "puppo Rottweiler                56413.0  56413.0  56413.0  56413.0  56413.0   \n",
       "      chow                       5575.0   5575.0   5575.0   5575.0   5575.0   \n",
       "      golden_retriever          15359.0  19476.0  34835.0  17417.5  17417.5   \n",
       "      malamute                   4624.0   4624.0   4624.0   4624.0   4624.0   \n",
       "      miniature_pinscher        11203.0  11203.0  11203.0  11203.0  11203.0   \n",
       "\n",
       "                                             \n",
       "                                        std  \n",
       "stage breed                                  \n",
       "doggo Bedlington_terrier        6806.609876  \n",
       "      Blenheim_spaniel                  NaN  \n",
       "      Border_collie                     NaN  \n",
       "      Chesapeake_Bay_retriever          NaN  \n",
       "      Chihuahua                         NaN  \n",
       "...                                     ...  \n",
       "puppo Rottweiler                        NaN  \n",
       "      chow                              NaN  \n",
       "      golden_retriever          2911.158618  \n",
       "      malamute                          NaN  \n",
       "      miniature_pinscher                NaN  \n",
       "\n",
       "[115 rows x 21 columns]"
      ]
     },
     "execution_count": 84,
     "metadata": {},
     "output_type": "execute_result"
    }
   ],
   "source": [
    "cleaned.groupby([\"stage\",\"breed\"])['rating_numerator','retweet_count','favorite_count'].agg(['count','min','max','sum','mean','median','std'])"
   ]
  },
  {
   "cell_type": "markdown",
   "metadata": {},
   "source": [
    "## data visualization\n"
   ]
  },
  {
   "cell_type": "code",
   "execution_count": 85,
   "metadata": {},
   "outputs": [
    {
     "data": {
      "text/plain": [
       "<matplotlib.axes._subplots.AxesSubplot at 0x12c0c862388>"
      ]
     },
     "execution_count": 85,
     "metadata": {},
     "output_type": "execute_result"
    },
    {
     "data": {
      "image/png": "[encoded data removed]",
      "text/plain": [
       "<Figure size 432x288 with 1 Axes>"
      ]
     },
     "metadata": {
      "needs_background": "light"
     },
     "output_type": "display_data"
    }
   ],
   "source": [
    "cleaned['rating_numerator'].value_counts().plot(kind=\"bar\",title = \"rating numerator\")"
   ]
  },
  {
   "cell_type": "code",
   "execution_count": 86,
   "metadata": {},
   "outputs": [
    {
     "data": {
      "text/plain": [
       "<matplotlib.axes._subplots.AxesSubplot at 0x12c11b5ac48>"
      ]
     },
     "execution_count": 86,
     "metadata": {},
     "output_type": "execute_result"
    },
    {
     "data": {
      "image/png": "[encoded data removed]",
      "text/plain": [
       "<Figure size 720x1080 with 1 Axes>"
      ]
     },
     "metadata": {},
     "output_type": "display_data"
    }
   ],
   "source": [
    "cleaned['stage'].fillna(\"N.A.\").value_counts().plot(kind=\"pie\",title=\"Dog Stages\",figsize=(10,15))"
   ]
  },
  {
   "cell_type": "code",
   "execution_count": 87,
   "metadata": {},
   "outputs": [
    {
     "data": {
      "text/plain": [
       "<matplotlib.axes._subplots.AxesSubplot at 0x12c11c34988>"
      ]
     },
     "execution_count": 87,
     "metadata": {},
     "output_type": "execute_result"
    },
    {
     "data": {
      "image/png": "[encoded data removed]",
      "text/plain": [
       "<Figure size 432x288 with 1 Axes>"
      ]
     },
     "metadata": {
      "needs_background": "light"
     },
     "output_type": "display_data"
    }
   ],
   "source": [
    "cleaned['retweet_count'].value_counts().plot(kind=\"hist\",title = \"retweet count\")\n",
    "\n"
   ]
  },
  {
   "cell_type": "code",
   "execution_count": 88,
   "metadata": {},
   "outputs": [
    {
     "data": {
      "text/plain": [
       "<matplotlib.axes._subplots.AxesSubplot at 0x12c11e25e88>"
      ]
     },
     "execution_count": 88,
     "metadata": {},
     "output_type": "execute_result"
    },
    {
     "data": {
      "image/png": "[encoded data removed]",
      "text/plain": [
       "<Figure size 432x288 with 1 Axes>"
      ]
     },
     "metadata": {
      "needs_background": "light"
     },
     "output_type": "display_data"
    }
   ],
   "source": [
    "cleaned['favorite_count'].value_counts().plot(kind=\"hist\",title = \"favorite count\")\n",
    "\n"
   ]
  },
  {
   "cell_type": "code",
   "execution_count": 89,
   "metadata": {
    "scrolled": true
   },
   "outputs": [
    {
     "name": "stderr",
     "output_type": "stream",
     "text": [
      "C:\\Users\\pc\\Anaconda3\\lib\\site-packages\\pandas\\plotting\\_matplotlib\\core.py:420: FutureWarning: Converting timezone-aware DatetimeArray to timezone-naive ndarray with 'datetime64[ns]' dtype. In the future, this will return an ndarray with 'object' dtype where each element is a 'pandas.Timestamp' with the correct 'tz'.\n",
      "\tTo accept the future behavior, pass 'dtype=object'.\n",
      "\tTo keep the old behavior, pass 'dtype=\"datetime64[ns]\"'.\n",
      "  numeric_data[col] = np.asarray(numeric_data[col])\n"
     ]
    },
    {
     "data": {
      "text/plain": [
       "<matplotlib.axes._subplots.AxesSubplot at 0x12c11fcad48>"
      ]
     },
     "execution_count": 89,
     "metadata": {},
     "output_type": "execute_result"
    },
    {
     "data": {
      "image/png": "[encoded data removed]",
      "text/plain": [
       "<Figure size 432x288 with 1 Axes>"
      ]
     },
     "metadata": {
      "needs_background": "light"
     },
     "output_type": "display_data"
    }
   ],
   "source": [
    "cleaned.plot(kind=\"scatter\",x=\"retweet_count\",y=\"favorite_count\",title='retweet count and favourite count')"
   ]
  },
  {
   "cell_type": "code",
   "execution_count": 90,
   "metadata": {},
   "outputs": [
    {
     "data": {
      "text/plain": [
       "<matplotlib.axes._subplots.AxesSubplot at 0x12c11fca5c8>"
      ]
     },
     "execution_count": 90,
     "metadata": {},
     "output_type": "execute_result"
    },
    {
     "data": {
      "image/png": "[encoded data removed]",
      "text/plain": [
       "<Figure size 432x288 with 1 Axes>"
      ]
     },
     "metadata": {
      "needs_background": "light"
     },
     "output_type": "display_data"
    }
   ],
   "source": [
    "cleaned.plot(kind=\"scatter\",x=\"retweet_count\",y=\"rating_numerator\",title='retweet count and rating numerator')"
   ]
  },
  {
   "cell_type": "code",
   "execution_count": 91,
   "metadata": {},
   "outputs": [
    {
     "data": {
      "text/plain": [
       "<matplotlib.axes._subplots.AxesSubplot at 0x12c123b5388>"
      ]
     },
     "execution_count": 91,
     "metadata": {},
     "output_type": "execute_result"
    },
    {
     "data": {
      "image/png": "[encoded data removed]",
      "text/plain": [
       "<Figure size 432x288 with 1 Axes>"
      ]
     },
     "metadata": {
      "needs_background": "light"
     },
     "output_type": "display_data"
    }
   ],
   "source": [
    "cleaned.plot(kind=\"scatter\",x=\"favorite_count\",y=\"rating_numerator\",title='favourite count and rating numerator')"
   ]
  },
  {
   "cell_type": "code",
   "execution_count": null,
   "metadata": {},
   "outputs": [],
   "source": []
  },
  {
   "cell_type": "code",
   "execution_count": null,
   "metadata": {},
   "outputs": [],
   "source": []
  }
 ],
 "metadata": {
  "kernelspec": {
   "display_name": "Python 3",
   "language": "python",
   "name": "python3"
  },
  "language_info": {
   "codemirror_mode": {
    "name": "ipython",
    "version": 3
   },
   "file_extension": ".py",
   "mimetype": "text/x-python",
   "name": "python",
   "nbconvert_exporter": "python",
   "pygments_lexer": "ipython3",
   "version": "3.7.4"
  }
 },
 "nbformat": 4,
 "nbformat_minor": 2
}
